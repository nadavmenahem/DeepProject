{
  "cells": [
    {
      "cell_type": "code",
      "execution_count": 1,
      "metadata": {
        "colab": {
          "base_uri": "https://localhost:8080/"
        },
        "collapsed": true,
        "id": "VR1kRmqbzSn7",
        "outputId": "bfb724ca-1836-4661-c265-0dfd9d060ebc"
      },
      "outputs": [
        {
          "output_type": "stream",
          "name": "stdout",
          "text": [
            "Get:1 https://cloud.r-project.org/bin/linux/ubuntu jammy-cran40/ InRelease [3,632 B]\n",
            "Get:2 https://developer.download.nvidia.com/compute/cuda/repos/ubuntu2204/x86_64  InRelease [1,581 B]\n",
            "Get:3 http://security.ubuntu.com/ubuntu jammy-security InRelease [129 kB]\n",
            "Hit:4 http://archive.ubuntu.com/ubuntu jammy InRelease\n",
            "Get:5 http://archive.ubuntu.com/ubuntu jammy-updates InRelease [128 kB]\n",
            "Get:6 https://ppa.launchpadcontent.net/deadsnakes/ppa/ubuntu jammy InRelease [18.1 kB]\n",
            "Hit:7 https://ppa.launchpadcontent.net/graphics-drivers/ppa/ubuntu jammy InRelease\n",
            "Get:8 https://developer.download.nvidia.com/compute/cuda/repos/ubuntu2204/x86_64  Packages [1,918 kB]\n",
            "Hit:9 https://r2u.stat.illinois.edu/ubuntu jammy InRelease\n",
            "Hit:10 https://ppa.launchpadcontent.net/ubuntugis/ppa/ubuntu jammy InRelease\n",
            "Get:11 http://archive.ubuntu.com/ubuntu jammy-backports InRelease [127 kB]\n",
            "Get:12 https://ppa.launchpadcontent.net/deadsnakes/ppa/ubuntu jammy/main amd64 Packages [32.9 kB]\n",
            "Fetched 2,358 kB in 3s (858 kB/s)\n",
            "Reading package lists... Done\n",
            "W: Skipping acquire of configured file 'main/source/Sources' as repository 'https://r2u.stat.illinois.edu/ubuntu jammy InRelease' does not seem to provide it (sources.list entry misspelt?)\n",
            "Reading package lists... Done\n",
            "Building dependency tree... Done\n",
            "Reading state information... Done\n",
            "build-essential is already the newest version (12.9ubuntu3).\n",
            "cmake is already the newest version (3.22.1-1ubuntu1.22.04.2).\n",
            "Suggested packages:\n",
            "  libomp-14-doc\n",
            "The following NEW packages will be installed:\n",
            "  libomp-14-dev libomp-dev libomp5-14\n",
            "0 upgraded, 3 newly installed, 0 to remove and 35 not upgraded.\n",
            "Need to get 738 kB of archives.\n",
            "After this operation, 8,991 kB of additional disk space will be used.\n",
            "Get:1 http://archive.ubuntu.com/ubuntu jammy-updates/universe amd64 libomp5-14 amd64 1:14.0.0-1ubuntu1.1 [389 kB]\n",
            "Get:2 http://archive.ubuntu.com/ubuntu jammy-updates/universe amd64 libomp-14-dev amd64 1:14.0.0-1ubuntu1.1 [347 kB]\n",
            "Get:3 http://archive.ubuntu.com/ubuntu jammy/universe amd64 libomp-dev amd64 1:14.0-55~exp2 [3,074 B]\n",
            "Fetched 738 kB in 2s (381 kB/s)\n",
            "Selecting previously unselected package libomp5-14:amd64.\n",
            "(Reading database ... 126284 files and directories currently installed.)\n",
            "Preparing to unpack .../libomp5-14_1%3a14.0.0-1ubuntu1.1_amd64.deb ...\n",
            "Unpacking libomp5-14:amd64 (1:14.0.0-1ubuntu1.1) ...\n",
            "Selecting previously unselected package libomp-14-dev.\n",
            "Preparing to unpack .../libomp-14-dev_1%3a14.0.0-1ubuntu1.1_amd64.deb ...\n",
            "Unpacking libomp-14-dev (1:14.0.0-1ubuntu1.1) ...\n",
            "Selecting previously unselected package libomp-dev:amd64.\n",
            "Preparing to unpack .../libomp-dev_1%3a14.0-55~exp2_amd64.deb ...\n",
            "Unpacking libomp-dev:amd64 (1:14.0-55~exp2) ...\n",
            "Setting up libomp5-14:amd64 (1:14.0.0-1ubuntu1.1) ...\n",
            "Setting up libomp-14-dev (1:14.0.0-1ubuntu1.1) ...\n",
            "Setting up libomp-dev:amd64 (1:14.0-55~exp2) ...\n",
            "Processing triggers for libc-bin (2.35-0ubuntu3.8) ...\n",
            "/sbin/ldconfig.real: /usr/local/lib/libur_adapter_level_zero_v2.so.0 is not a symbolic link\n",
            "\n",
            "/sbin/ldconfig.real: /usr/local/lib/libtbbbind_2_5.so.3 is not a symbolic link\n",
            "\n",
            "/sbin/ldconfig.real: /usr/local/lib/libtcm_debug.so.1 is not a symbolic link\n",
            "\n",
            "/sbin/ldconfig.real: /usr/local/lib/libtbbmalloc_proxy.so.2 is not a symbolic link\n",
            "\n",
            "/sbin/ldconfig.real: /usr/local/lib/libtbbbind.so.3 is not a symbolic link\n",
            "\n",
            "/sbin/ldconfig.real: /usr/local/lib/libumf.so.0 is not a symbolic link\n",
            "\n",
            "/sbin/ldconfig.real: /usr/local/lib/libur_adapter_level_zero.so.0 is not a symbolic link\n",
            "\n",
            "/sbin/ldconfig.real: /usr/local/lib/libur_loader.so.0 is not a symbolic link\n",
            "\n",
            "/sbin/ldconfig.real: /usr/local/lib/libtbbbind_2_0.so.3 is not a symbolic link\n",
            "\n",
            "/sbin/ldconfig.real: /usr/local/lib/libhwloc.so.15 is not a symbolic link\n",
            "\n",
            "/sbin/ldconfig.real: /usr/local/lib/libur_adapter_opencl.so.0 is not a symbolic link\n",
            "\n",
            "/sbin/ldconfig.real: /usr/local/lib/libtbbmalloc.so.2 is not a symbolic link\n",
            "\n",
            "/sbin/ldconfig.real: /usr/local/lib/libtcm.so.1 is not a symbolic link\n",
            "\n",
            "/sbin/ldconfig.real: /usr/local/lib/libtbb.so.12 is not a symbolic link\n",
            "\n",
            "Collecting ninja\n",
            "  Downloading ninja-1.11.1.4-py3-none-manylinux_2_12_x86_64.manylinux2010_x86_64.whl.metadata (5.0 kB)\n",
            "Downloading ninja-1.11.1.4-py3-none-manylinux_2_12_x86_64.manylinux2010_x86_64.whl (422 kB)\n",
            "\u001b[2K   \u001b[90m━━━━━━━━━━━━━━━━━━━━━━━━━━━━━━━━━━━━━━━━\u001b[0m \u001b[32m422.8/422.8 kB\u001b[0m \u001b[31m25.0 MB/s\u001b[0m eta \u001b[36m0:00:00\u001b[0m\n",
            "\u001b[?25hInstalling collected packages: ninja\n",
            "Successfully installed ninja-1.11.1.4\n",
            "Collecting mamba-ssm==2.2.4\n",
            "  Downloading mamba_ssm-2.2.4.tar.gz (91 kB)\n",
            "\u001b[2K     \u001b[90m━━━━━━━━━━━━━━━━━━━━━━━━━━━━━━━━━━━━━━━━\u001b[0m \u001b[32m91.8/91.8 kB\u001b[0m \u001b[31m9.0 MB/s\u001b[0m eta \u001b[36m0:00:00\u001b[0m\n",
            "\u001b[?25h  Preparing metadata (pyproject.toml) ... \u001b[?25l\u001b[?25hdone\n",
            "Requirement already satisfied: torch in /usr/local/lib/python3.11/dist-packages (from mamba-ssm==2.2.4) (2.6.0+cu124)\n",
            "Requirement already satisfied: ninja in /usr/local/lib/python3.11/dist-packages (from mamba-ssm==2.2.4) (1.11.1.4)\n",
            "Requirement already satisfied: einops in /usr/local/lib/python3.11/dist-packages (from mamba-ssm==2.2.4) (0.8.1)\n",
            "Requirement already satisfied: transformers in /usr/local/lib/python3.11/dist-packages (from mamba-ssm==2.2.4) (4.54.1)\n",
            "Requirement already satisfied: packaging in /usr/local/lib/python3.11/dist-packages (from mamba-ssm==2.2.4) (25.0)\n",
            "Requirement already satisfied: setuptools>=61.0.0 in /usr/local/lib/python3.11/dist-packages (from mamba-ssm==2.2.4) (75.2.0)\n",
            "Requirement already satisfied: filelock in /usr/local/lib/python3.11/dist-packages (from torch->mamba-ssm==2.2.4) (3.18.0)\n",
            "Requirement already satisfied: typing-extensions>=4.10.0 in /usr/local/lib/python3.11/dist-packages (from torch->mamba-ssm==2.2.4) (4.14.1)\n",
            "Requirement already satisfied: networkx in /usr/local/lib/python3.11/dist-packages (from torch->mamba-ssm==2.2.4) (3.5)\n",
            "Requirement already satisfied: jinja2 in /usr/local/lib/python3.11/dist-packages (from torch->mamba-ssm==2.2.4) (3.1.6)\n",
            "Requirement already satisfied: fsspec in /usr/local/lib/python3.11/dist-packages (from torch->mamba-ssm==2.2.4) (2025.3.0)\n",
            "Collecting nvidia-cuda-nvrtc-cu12==12.4.127 (from torch->mamba-ssm==2.2.4)\n",
            "  Downloading nvidia_cuda_nvrtc_cu12-12.4.127-py3-none-manylinux2014_x86_64.whl.metadata (1.5 kB)\n",
            "Collecting nvidia-cuda-runtime-cu12==12.4.127 (from torch->mamba-ssm==2.2.4)\n",
            "  Downloading nvidia_cuda_runtime_cu12-12.4.127-py3-none-manylinux2014_x86_64.whl.metadata (1.5 kB)\n",
            "Collecting nvidia-cuda-cupti-cu12==12.4.127 (from torch->mamba-ssm==2.2.4)\n",
            "  Downloading nvidia_cuda_cupti_cu12-12.4.127-py3-none-manylinux2014_x86_64.whl.metadata (1.6 kB)\n",
            "Collecting nvidia-cudnn-cu12==9.1.0.70 (from torch->mamba-ssm==2.2.4)\n",
            "  Downloading nvidia_cudnn_cu12-9.1.0.70-py3-none-manylinux2014_x86_64.whl.metadata (1.6 kB)\n",
            "Collecting nvidia-cublas-cu12==12.4.5.8 (from torch->mamba-ssm==2.2.4)\n",
            "  Downloading nvidia_cublas_cu12-12.4.5.8-py3-none-manylinux2014_x86_64.whl.metadata (1.5 kB)\n",
            "Collecting nvidia-cufft-cu12==11.2.1.3 (from torch->mamba-ssm==2.2.4)\n",
            "  Downloading nvidia_cufft_cu12-11.2.1.3-py3-none-manylinux2014_x86_64.whl.metadata (1.5 kB)\n",
            "Collecting nvidia-curand-cu12==10.3.5.147 (from torch->mamba-ssm==2.2.4)\n",
            "  Downloading nvidia_curand_cu12-10.3.5.147-py3-none-manylinux2014_x86_64.whl.metadata (1.5 kB)\n",
            "Collecting nvidia-cusolver-cu12==11.6.1.9 (from torch->mamba-ssm==2.2.4)\n",
            "  Downloading nvidia_cusolver_cu12-11.6.1.9-py3-none-manylinux2014_x86_64.whl.metadata (1.6 kB)\n",
            "Collecting nvidia-cusparse-cu12==12.3.1.170 (from torch->mamba-ssm==2.2.4)\n",
            "  Downloading nvidia_cusparse_cu12-12.3.1.170-py3-none-manylinux2014_x86_64.whl.metadata (1.6 kB)\n",
            "Requirement already satisfied: nvidia-cusparselt-cu12==0.6.2 in /usr/local/lib/python3.11/dist-packages (from torch->mamba-ssm==2.2.4) (0.6.2)\n",
            "Collecting nvidia-nccl-cu12==2.21.5 (from torch->mamba-ssm==2.2.4)\n",
            "  Downloading nvidia_nccl_cu12-2.21.5-py3-none-manylinux2014_x86_64.whl.metadata (1.8 kB)\n",
            "Requirement already satisfied: nvidia-nvtx-cu12==12.4.127 in /usr/local/lib/python3.11/dist-packages (from torch->mamba-ssm==2.2.4) (12.4.127)\n",
            "Collecting nvidia-nvjitlink-cu12==12.4.127 (from torch->mamba-ssm==2.2.4)\n",
            "  Downloading nvidia_nvjitlink_cu12-12.4.127-py3-none-manylinux2014_x86_64.whl.metadata (1.5 kB)\n",
            "Requirement already satisfied: triton==3.2.0 in /usr/local/lib/python3.11/dist-packages (from torch->mamba-ssm==2.2.4) (3.2.0)\n",
            "Requirement already satisfied: sympy==1.13.1 in /usr/local/lib/python3.11/dist-packages (from torch->mamba-ssm==2.2.4) (1.13.1)\n",
            "Requirement already satisfied: mpmath<1.4,>=1.1.0 in /usr/local/lib/python3.11/dist-packages (from sympy==1.13.1->torch->mamba-ssm==2.2.4) (1.3.0)\n",
            "Requirement already satisfied: huggingface-hub<1.0,>=0.34.0 in /usr/local/lib/python3.11/dist-packages (from transformers->mamba-ssm==2.2.4) (0.34.3)\n",
            "Requirement already satisfied: numpy>=1.17 in /usr/local/lib/python3.11/dist-packages (from transformers->mamba-ssm==2.2.4) (2.0.2)\n",
            "Requirement already satisfied: pyyaml>=5.1 in /usr/local/lib/python3.11/dist-packages (from transformers->mamba-ssm==2.2.4) (6.0.2)\n",
            "Requirement already satisfied: regex!=2019.12.17 in /usr/local/lib/python3.11/dist-packages (from transformers->mamba-ssm==2.2.4) (2024.11.6)\n",
            "Requirement already satisfied: requests in /usr/local/lib/python3.11/dist-packages (from transformers->mamba-ssm==2.2.4) (2.32.3)\n",
            "Requirement already satisfied: tokenizers<0.22,>=0.21 in /usr/local/lib/python3.11/dist-packages (from transformers->mamba-ssm==2.2.4) (0.21.4)\n",
            "Requirement already satisfied: safetensors>=0.4.3 in /usr/local/lib/python3.11/dist-packages (from transformers->mamba-ssm==2.2.4) (0.5.3)\n",
            "Requirement already satisfied: tqdm>=4.27 in /usr/local/lib/python3.11/dist-packages (from transformers->mamba-ssm==2.2.4) (4.67.1)\n",
            "Requirement already satisfied: hf-xet<2.0.0,>=1.1.3 in /usr/local/lib/python3.11/dist-packages (from huggingface-hub<1.0,>=0.34.0->transformers->mamba-ssm==2.2.4) (1.1.5)\n",
            "Requirement already satisfied: MarkupSafe>=2.0 in /usr/local/lib/python3.11/dist-packages (from jinja2->torch->mamba-ssm==2.2.4) (3.0.2)\n",
            "Requirement already satisfied: charset-normalizer<4,>=2 in /usr/local/lib/python3.11/dist-packages (from requests->transformers->mamba-ssm==2.2.4) (3.4.2)\n",
            "Requirement already satisfied: idna<4,>=2.5 in /usr/local/lib/python3.11/dist-packages (from requests->transformers->mamba-ssm==2.2.4) (3.10)\n",
            "Requirement already satisfied: urllib3<3,>=1.21.1 in /usr/local/lib/python3.11/dist-packages (from requests->transformers->mamba-ssm==2.2.4) (2.5.0)\n",
            "Requirement already satisfied: certifi>=2017.4.17 in /usr/local/lib/python3.11/dist-packages (from requests->transformers->mamba-ssm==2.2.4) (2025.7.14)\n",
            "Downloading nvidia_cublas_cu12-12.4.5.8-py3-none-manylinux2014_x86_64.whl (363.4 MB)\n",
            "\u001b[2K   \u001b[90m━━━━━━━━━━━━━━━━━━━━━━━━━━━━━━━━━━━━━━━━\u001b[0m \u001b[32m363.4/363.4 MB\u001b[0m \u001b[31m4.1 MB/s\u001b[0m eta \u001b[36m0:00:00\u001b[0m\n",
            "\u001b[?25hDownloading nvidia_cuda_cupti_cu12-12.4.127-py3-none-manylinux2014_x86_64.whl (13.8 MB)\n",
            "\u001b[2K   \u001b[90m━━━━━━━━━━━━━━━━━━━━━━━━━━━━━━━━━━━━━━━━\u001b[0m \u001b[32m13.8/13.8 MB\u001b[0m \u001b[31m121.0 MB/s\u001b[0m eta \u001b[36m0:00:00\u001b[0m\n",
            "\u001b[?25hDownloading nvidia_cuda_nvrtc_cu12-12.4.127-py3-none-manylinux2014_x86_64.whl (24.6 MB)\n",
            "\u001b[2K   \u001b[90m━━━━━━━━━━━━━━━━━━━━━━━━━━━━━━━━━━━━━━━━\u001b[0m \u001b[32m24.6/24.6 MB\u001b[0m \u001b[31m94.4 MB/s\u001b[0m eta \u001b[36m0:00:00\u001b[0m\n",
            "\u001b[?25hDownloading nvidia_cuda_runtime_cu12-12.4.127-py3-none-manylinux2014_x86_64.whl (883 kB)\n",
            "\u001b[2K   \u001b[90m━━━━━━━━━━━━━━━━━━━━━━━━━━━━━━━━━━━━━━━━\u001b[0m \u001b[32m883.7/883.7 kB\u001b[0m \u001b[31m52.8 MB/s\u001b[0m eta \u001b[36m0:00:00\u001b[0m\n",
            "\u001b[?25hDownloading nvidia_cudnn_cu12-9.1.0.70-py3-none-manylinux2014_x86_64.whl (664.8 MB)\n",
            "\u001b[2K   \u001b[90m━━━━━━━━━━━━━━━━━━━━━━━━━━━━━━━━━━━━━━━━\u001b[0m \u001b[32m664.8/664.8 MB\u001b[0m \u001b[31m2.2 MB/s\u001b[0m eta \u001b[36m0:00:00\u001b[0m\n",
            "\u001b[?25hDownloading nvidia_cufft_cu12-11.2.1.3-py3-none-manylinux2014_x86_64.whl (211.5 MB)\n",
            "\u001b[2K   \u001b[90m━━━━━━━━━━━━━━━━━━━━━━━━━━━━━━━━━━━━━━━━\u001b[0m \u001b[32m211.5/211.5 MB\u001b[0m \u001b[31m6.0 MB/s\u001b[0m eta \u001b[36m0:00:00\u001b[0m\n",
            "\u001b[?25hDownloading nvidia_curand_cu12-10.3.5.147-py3-none-manylinux2014_x86_64.whl (56.3 MB)\n",
            "\u001b[2K   \u001b[90m━━━━━━━━━━━━━━━━━━━━━━━━━━━━━━━━━━━━━━━━\u001b[0m \u001b[32m56.3/56.3 MB\u001b[0m \u001b[31m14.4 MB/s\u001b[0m eta \u001b[36m0:00:00\u001b[0m\n",
            "\u001b[?25hDownloading nvidia_cusolver_cu12-11.6.1.9-py3-none-manylinux2014_x86_64.whl (127.9 MB)\n",
            "\u001b[2K   \u001b[90m━━━━━━━━━━━━━━━━━━━━━━━━━━━━━━━━━━━━━━━━\u001b[0m \u001b[32m127.9/127.9 MB\u001b[0m \u001b[31m7.2 MB/s\u001b[0m eta \u001b[36m0:00:00\u001b[0m\n",
            "\u001b[?25hDownloading nvidia_cusparse_cu12-12.3.1.170-py3-none-manylinux2014_x86_64.whl (207.5 MB)\n",
            "\u001b[2K   \u001b[90m━━━━━━━━━━━━━━━━━━━━━━━━━━━━━━━━━━━━━━━━\u001b[0m \u001b[32m207.5/207.5 MB\u001b[0m \u001b[31m6.0 MB/s\u001b[0m eta \u001b[36m0:00:00\u001b[0m\n",
            "\u001b[?25hDownloading nvidia_nccl_cu12-2.21.5-py3-none-manylinux2014_x86_64.whl (188.7 MB)\n",
            "\u001b[2K   \u001b[90m━━━━━━━━━━━━━━━━━━━━━━━━━━━━━━━━━━━━━━━━\u001b[0m \u001b[32m188.7/188.7 MB\u001b[0m \u001b[31m6.1 MB/s\u001b[0m eta \u001b[36m0:00:00\u001b[0m\n",
            "\u001b[?25hDownloading nvidia_nvjitlink_cu12-12.4.127-py3-none-manylinux2014_x86_64.whl (21.1 MB)\n",
            "\u001b[2K   \u001b[90m━━━━━━━━━━━━━━━━━━━━━━━━━━━━━━━━━━━━━━━━\u001b[0m \u001b[32m21.1/21.1 MB\u001b[0m \u001b[31m43.1 MB/s\u001b[0m eta \u001b[36m0:00:00\u001b[0m\n",
            "\u001b[?25hBuilding wheels for collected packages: mamba-ssm\n",
            "  Building wheel for mamba-ssm (pyproject.toml) ... \u001b[?25l\u001b[?25hdone\n",
            "  Created wheel for mamba-ssm: filename=mamba_ssm-2.2.4-cp311-cp311-linux_x86_64.whl size=323672993 sha256=8a0be01153fa30727a9e69024fbe061eb92c7ba4416d2049c5fc3107ed91d852\n",
            "  Stored in directory: /root/.cache/pip/wheels/2a/5e/64/cfcb5dfe4f854944456e031c34953dc872af1ad7c206145d4a\n",
            "Successfully built mamba-ssm\n",
            "Installing collected packages: nvidia-nvjitlink-cu12, nvidia-nccl-cu12, nvidia-curand-cu12, nvidia-cufft-cu12, nvidia-cuda-runtime-cu12, nvidia-cuda-nvrtc-cu12, nvidia-cuda-cupti-cu12, nvidia-cublas-cu12, nvidia-cusparse-cu12, nvidia-cudnn-cu12, nvidia-cusolver-cu12, mamba-ssm\n",
            "  Attempting uninstall: nvidia-nvjitlink-cu12\n",
            "    Found existing installation: nvidia-nvjitlink-cu12 12.5.82\n",
            "    Uninstalling nvidia-nvjitlink-cu12-12.5.82:\n",
            "      Successfully uninstalled nvidia-nvjitlink-cu12-12.5.82\n",
            "  Attempting uninstall: nvidia-nccl-cu12\n",
            "    Found existing installation: nvidia-nccl-cu12 2.23.4\n",
            "    Uninstalling nvidia-nccl-cu12-2.23.4:\n",
            "      Successfully uninstalled nvidia-nccl-cu12-2.23.4\n",
            "  Attempting uninstall: nvidia-curand-cu12\n",
            "    Found existing installation: nvidia-curand-cu12 10.3.6.82\n",
            "    Uninstalling nvidia-curand-cu12-10.3.6.82:\n",
            "      Successfully uninstalled nvidia-curand-cu12-10.3.6.82\n",
            "  Attempting uninstall: nvidia-cufft-cu12\n",
            "    Found existing installation: nvidia-cufft-cu12 11.2.3.61\n",
            "    Uninstalling nvidia-cufft-cu12-11.2.3.61:\n",
            "      Successfully uninstalled nvidia-cufft-cu12-11.2.3.61\n",
            "  Attempting uninstall: nvidia-cuda-runtime-cu12\n",
            "    Found existing installation: nvidia-cuda-runtime-cu12 12.5.82\n",
            "    Uninstalling nvidia-cuda-runtime-cu12-12.5.82:\n",
            "      Successfully uninstalled nvidia-cuda-runtime-cu12-12.5.82\n",
            "  Attempting uninstall: nvidia-cuda-nvrtc-cu12\n",
            "    Found existing installation: nvidia-cuda-nvrtc-cu12 12.5.82\n",
            "    Uninstalling nvidia-cuda-nvrtc-cu12-12.5.82:\n",
            "      Successfully uninstalled nvidia-cuda-nvrtc-cu12-12.5.82\n",
            "  Attempting uninstall: nvidia-cuda-cupti-cu12\n",
            "    Found existing installation: nvidia-cuda-cupti-cu12 12.5.82\n",
            "    Uninstalling nvidia-cuda-cupti-cu12-12.5.82:\n",
            "      Successfully uninstalled nvidia-cuda-cupti-cu12-12.5.82\n",
            "  Attempting uninstall: nvidia-cublas-cu12\n",
            "    Found existing installation: nvidia-cublas-cu12 12.5.3.2\n",
            "    Uninstalling nvidia-cublas-cu12-12.5.3.2:\n",
            "      Successfully uninstalled nvidia-cublas-cu12-12.5.3.2\n",
            "  Attempting uninstall: nvidia-cusparse-cu12\n",
            "    Found existing installation: nvidia-cusparse-cu12 12.5.1.3\n",
            "    Uninstalling nvidia-cusparse-cu12-12.5.1.3:\n",
            "      Successfully uninstalled nvidia-cusparse-cu12-12.5.1.3\n",
            "  Attempting uninstall: nvidia-cudnn-cu12\n",
            "    Found existing installation: nvidia-cudnn-cu12 9.3.0.75\n",
            "    Uninstalling nvidia-cudnn-cu12-9.3.0.75:\n",
            "      Successfully uninstalled nvidia-cudnn-cu12-9.3.0.75\n",
            "  Attempting uninstall: nvidia-cusolver-cu12\n",
            "    Found existing installation: nvidia-cusolver-cu12 11.6.3.83\n",
            "    Uninstalling nvidia-cusolver-cu12-11.6.3.83:\n",
            "      Successfully uninstalled nvidia-cusolver-cu12-11.6.3.83\n",
            "Successfully installed mamba-ssm-2.2.4 nvidia-cublas-cu12-12.4.5.8 nvidia-cuda-cupti-cu12-12.4.127 nvidia-cuda-nvrtc-cu12-12.4.127 nvidia-cuda-runtime-cu12-12.4.127 nvidia-cudnn-cu12-9.1.0.70 nvidia-cufft-cu12-11.2.1.3 nvidia-curand-cu12-10.3.5.147 nvidia-cusolver-cu12-11.6.1.9 nvidia-cusparse-cu12-12.3.1.170 nvidia-nccl-cu12-2.21.5 nvidia-nvjitlink-cu12-12.4.127\n",
            "Collecting mambavision==1.1.0\n",
            "  Downloading mambavision-1.1.0-py3-none-any.whl.metadata (17 kB)\n",
            "Collecting timm==1.0.15 (from mambavision==1.1.0)\n",
            "  Downloading timm-1.0.15-py3-none-any.whl.metadata (52 kB)\n",
            "\u001b[2K     \u001b[90m━━━━━━━━━━━━━━━━━━━━━━━━━━━━━━━━━━━━━━━━\u001b[0m \u001b[32m52.0/52.0 kB\u001b[0m \u001b[31m4.2 MB/s\u001b[0m eta \u001b[36m0:00:00\u001b[0m\n",
            "\u001b[?25hCollecting transformers==4.50.0 (from mambavision==1.1.0)\n",
            "  Downloading transformers-4.50.0-py3-none-any.whl.metadata (39 kB)\n",
            "Requirement already satisfied: mamba-ssm==2.2.4 in /usr/local/lib/python3.11/dist-packages (from mambavision==1.1.0) (2.2.4)\n",
            "Requirement already satisfied: einops==0.8.1 in /usr/local/lib/python3.11/dist-packages (from mambavision==1.1.0) (0.8.1)\n",
            "Collecting tensorboardX==2.6.2.2 (from mambavision==1.1.0)\n",
            "  Downloading tensorboardX-2.6.2.2-py2.py3-none-any.whl.metadata (5.8 kB)\n",
            "Requirement already satisfied: requests==2.32.3 in /usr/local/lib/python3.11/dist-packages (from mambavision==1.1.0) (2.32.3)\n",
            "Collecting Pillow==11.1.0 (from mambavision==1.1.0)\n",
            "  Downloading pillow-11.1.0-cp311-cp311-manylinux_2_28_x86_64.whl.metadata (9.1 kB)\n",
            "Requirement already satisfied: torch in /usr/local/lib/python3.11/dist-packages (from mamba-ssm==2.2.4->mambavision==1.1.0) (2.6.0+cu124)\n",
            "Requirement already satisfied: ninja in /usr/local/lib/python3.11/dist-packages (from mamba-ssm==2.2.4->mambavision==1.1.0) (1.11.1.4)\n",
            "Requirement already satisfied: packaging in /usr/local/lib/python3.11/dist-packages (from mamba-ssm==2.2.4->mambavision==1.1.0) (25.0)\n",
            "Requirement already satisfied: setuptools>=61.0.0 in /usr/local/lib/python3.11/dist-packages (from mamba-ssm==2.2.4->mambavision==1.1.0) (75.2.0)\n",
            "Requirement already satisfied: charset-normalizer<4,>=2 in /usr/local/lib/python3.11/dist-packages (from requests==2.32.3->mambavision==1.1.0) (3.4.2)\n",
            "Requirement already satisfied: idna<4,>=2.5 in /usr/local/lib/python3.11/dist-packages (from requests==2.32.3->mambavision==1.1.0) (3.10)\n",
            "Requirement already satisfied: urllib3<3,>=1.21.1 in /usr/local/lib/python3.11/dist-packages (from requests==2.32.3->mambavision==1.1.0) (2.5.0)\n",
            "Requirement already satisfied: certifi>=2017.4.17 in /usr/local/lib/python3.11/dist-packages (from requests==2.32.3->mambavision==1.1.0) (2025.7.14)\n",
            "Requirement already satisfied: numpy in /usr/local/lib/python3.11/dist-packages (from tensorboardX==2.6.2.2->mambavision==1.1.0) (2.0.2)\n",
            "Requirement already satisfied: protobuf>=3.20 in /usr/local/lib/python3.11/dist-packages (from tensorboardX==2.6.2.2->mambavision==1.1.0) (5.29.5)\n",
            "Requirement already satisfied: torchvision in /usr/local/lib/python3.11/dist-packages (from timm==1.0.15->mambavision==1.1.0) (0.21.0+cu124)\n",
            "Requirement already satisfied: pyyaml in /usr/local/lib/python3.11/dist-packages (from timm==1.0.15->mambavision==1.1.0) (6.0.2)\n",
            "Requirement already satisfied: huggingface_hub in /usr/local/lib/python3.11/dist-packages (from timm==1.0.15->mambavision==1.1.0) (0.34.3)\n",
            "Requirement already satisfied: safetensors in /usr/local/lib/python3.11/dist-packages (from timm==1.0.15->mambavision==1.1.0) (0.5.3)\n",
            "Requirement already satisfied: filelock in /usr/local/lib/python3.11/dist-packages (from transformers==4.50.0->mambavision==1.1.0) (3.18.0)\n",
            "Requirement already satisfied: regex!=2019.12.17 in /usr/local/lib/python3.11/dist-packages (from transformers==4.50.0->mambavision==1.1.0) (2024.11.6)\n",
            "Requirement already satisfied: tokenizers<0.22,>=0.21 in /usr/local/lib/python3.11/dist-packages (from transformers==4.50.0->mambavision==1.1.0) (0.21.4)\n",
            "Requirement already satisfied: tqdm>=4.27 in /usr/local/lib/python3.11/dist-packages (from transformers==4.50.0->mambavision==1.1.0) (4.67.1)\n",
            "Requirement already satisfied: fsspec>=2023.5.0 in /usr/local/lib/python3.11/dist-packages (from huggingface_hub->timm==1.0.15->mambavision==1.1.0) (2025.3.0)\n",
            "Requirement already satisfied: typing-extensions>=3.7.4.3 in /usr/local/lib/python3.11/dist-packages (from huggingface_hub->timm==1.0.15->mambavision==1.1.0) (4.14.1)\n",
            "Requirement already satisfied: hf-xet<2.0.0,>=1.1.3 in /usr/local/lib/python3.11/dist-packages (from huggingface_hub->timm==1.0.15->mambavision==1.1.0) (1.1.5)\n",
            "Requirement already satisfied: networkx in /usr/local/lib/python3.11/dist-packages (from torch->mamba-ssm==2.2.4->mambavision==1.1.0) (3.5)\n",
            "Requirement already satisfied: jinja2 in /usr/local/lib/python3.11/dist-packages (from torch->mamba-ssm==2.2.4->mambavision==1.1.0) (3.1.6)\n",
            "Requirement already satisfied: nvidia-cuda-nvrtc-cu12==12.4.127 in /usr/local/lib/python3.11/dist-packages (from torch->mamba-ssm==2.2.4->mambavision==1.1.0) (12.4.127)\n",
            "Requirement already satisfied: nvidia-cuda-runtime-cu12==12.4.127 in /usr/local/lib/python3.11/dist-packages (from torch->mamba-ssm==2.2.4->mambavision==1.1.0) (12.4.127)\n",
            "Requirement already satisfied: nvidia-cuda-cupti-cu12==12.4.127 in /usr/local/lib/python3.11/dist-packages (from torch->mamba-ssm==2.2.4->mambavision==1.1.0) (12.4.127)\n",
            "Requirement already satisfied: nvidia-cudnn-cu12==9.1.0.70 in /usr/local/lib/python3.11/dist-packages (from torch->mamba-ssm==2.2.4->mambavision==1.1.0) (9.1.0.70)\n",
            "Requirement already satisfied: nvidia-cublas-cu12==12.4.5.8 in /usr/local/lib/python3.11/dist-packages (from torch->mamba-ssm==2.2.4->mambavision==1.1.0) (12.4.5.8)\n",
            "Requirement already satisfied: nvidia-cufft-cu12==11.2.1.3 in /usr/local/lib/python3.11/dist-packages (from torch->mamba-ssm==2.2.4->mambavision==1.1.0) (11.2.1.3)\n",
            "Requirement already satisfied: nvidia-curand-cu12==10.3.5.147 in /usr/local/lib/python3.11/dist-packages (from torch->mamba-ssm==2.2.4->mambavision==1.1.0) (10.3.5.147)\n",
            "Requirement already satisfied: nvidia-cusolver-cu12==11.6.1.9 in /usr/local/lib/python3.11/dist-packages (from torch->mamba-ssm==2.2.4->mambavision==1.1.0) (11.6.1.9)\n",
            "Requirement already satisfied: nvidia-cusparse-cu12==12.3.1.170 in /usr/local/lib/python3.11/dist-packages (from torch->mamba-ssm==2.2.4->mambavision==1.1.0) (12.3.1.170)\n",
            "Requirement already satisfied: nvidia-cusparselt-cu12==0.6.2 in /usr/local/lib/python3.11/dist-packages (from torch->mamba-ssm==2.2.4->mambavision==1.1.0) (0.6.2)\n",
            "Requirement already satisfied: nvidia-nccl-cu12==2.21.5 in /usr/local/lib/python3.11/dist-packages (from torch->mamba-ssm==2.2.4->mambavision==1.1.0) (2.21.5)\n",
            "Requirement already satisfied: nvidia-nvtx-cu12==12.4.127 in /usr/local/lib/python3.11/dist-packages (from torch->mamba-ssm==2.2.4->mambavision==1.1.0) (12.4.127)\n",
            "Requirement already satisfied: nvidia-nvjitlink-cu12==12.4.127 in /usr/local/lib/python3.11/dist-packages (from torch->mamba-ssm==2.2.4->mambavision==1.1.0) (12.4.127)\n",
            "Requirement already satisfied: triton==3.2.0 in /usr/local/lib/python3.11/dist-packages (from torch->mamba-ssm==2.2.4->mambavision==1.1.0) (3.2.0)\n",
            "Requirement already satisfied: sympy==1.13.1 in /usr/local/lib/python3.11/dist-packages (from torch->mamba-ssm==2.2.4->mambavision==1.1.0) (1.13.1)\n",
            "Requirement already satisfied: mpmath<1.4,>=1.1.0 in /usr/local/lib/python3.11/dist-packages (from sympy==1.13.1->torch->mamba-ssm==2.2.4->mambavision==1.1.0) (1.3.0)\n",
            "Requirement already satisfied: MarkupSafe>=2.0 in /usr/local/lib/python3.11/dist-packages (from jinja2->torch->mamba-ssm==2.2.4->mambavision==1.1.0) (3.0.2)\n",
            "Downloading mambavision-1.1.0-py3-none-any.whl (57 kB)\n",
            "\u001b[2K   \u001b[90m━━━━━━━━━━━━━━━━━━━━━━━━━━━━━━━━━━━━━━━━\u001b[0m \u001b[32m57.9/57.9 kB\u001b[0m \u001b[31m5.3 MB/s\u001b[0m eta \u001b[36m0:00:00\u001b[0m\n",
            "\u001b[?25hDownloading pillow-11.1.0-cp311-cp311-manylinux_2_28_x86_64.whl (4.5 MB)\n",
            "\u001b[2K   \u001b[90m━━━━━━━━━━━━━━━━━━━━━━━━━━━━━━━━━━━━━━━━\u001b[0m \u001b[32m4.5/4.5 MB\u001b[0m \u001b[31m70.9 MB/s\u001b[0m eta \u001b[36m0:00:00\u001b[0m\n",
            "\u001b[?25hDownloading tensorboardX-2.6.2.2-py2.py3-none-any.whl (101 kB)\n",
            "\u001b[2K   \u001b[90m━━━━━━━━━━━━━━━━━━━━━━━━━━━━━━━━━━━━━━━━\u001b[0m \u001b[32m101.7/101.7 kB\u001b[0m \u001b[31m11.0 MB/s\u001b[0m eta \u001b[36m0:00:00\u001b[0m\n",
            "\u001b[?25hDownloading timm-1.0.15-py3-none-any.whl (2.4 MB)\n",
            "\u001b[2K   \u001b[90m━━━━━━━━━━━━━━━━━━━━━━━━━━━━━━━━━━━━━━━━\u001b[0m \u001b[32m2.4/2.4 MB\u001b[0m \u001b[31m91.8 MB/s\u001b[0m eta \u001b[36m0:00:00\u001b[0m\n",
            "\u001b[?25hDownloading transformers-4.50.0-py3-none-any.whl (10.2 MB)\n",
            "\u001b[2K   \u001b[90m━━━━━━━━━━━━━━━━━━━━━━━━━━━━━━━━━━━━━━━━\u001b[0m \u001b[32m10.2/10.2 MB\u001b[0m \u001b[31m83.5 MB/s\u001b[0m eta \u001b[36m0:00:00\u001b[0m\n",
            "\u001b[?25hInstalling collected packages: tensorboardX, Pillow, transformers, timm, mambavision\n",
            "  Attempting uninstall: Pillow\n",
            "    Found existing installation: pillow 11.3.0\n",
            "    Uninstalling pillow-11.3.0:\n",
            "      Successfully uninstalled pillow-11.3.0\n",
            "  Attempting uninstall: transformers\n",
            "    Found existing installation: transformers 4.54.1\n",
            "    Uninstalling transformers-4.54.1:\n",
            "      Successfully uninstalled transformers-4.54.1\n",
            "  Attempting uninstall: timm\n",
            "    Found existing installation: timm 1.0.19\n",
            "    Uninstalling timm-1.0.19:\n",
            "      Successfully uninstalled timm-1.0.19\n",
            "Successfully installed Pillow-11.1.0 mambavision-1.1.0 tensorboardX-2.6.2.2 timm-1.0.15 transformers-4.50.0\n"
          ]
        }
      ],
      "source": [
        "#make sure you have data_utils file\n",
        "#install requirements for mambavision\n",
        "# a. Get system build deps\n",
        "!apt-get update && \\\n",
        " apt-get install -y build-essential cmake libomp-dev\n",
        "\n",
        "# b. Pre-install ninja (so the wheel build uses it)\n",
        "!pip install --upgrade ninja\n",
        "\n",
        "# c. Build & install mamba-ssm against your existing torch/CUDA\n",
        "!pip install --no-build-isolation mamba-ssm==2.2.4\n",
        "\n",
        "# d. Now install mambavision\n",
        "!pip install mambavision==1.1.0"
      ]
    },
    {
      "cell_type": "code",
      "execution_count": 2,
      "metadata": {
        "id": "nb728WJVGxjD",
        "colab": {
          "base_uri": "https://localhost:8080/"
        },
        "outputId": "77a3cdc8-c1ac-4d22-c3c0-89c1e26d94f1"
      },
      "outputs": [
        {
          "output_type": "stream",
          "name": "stderr",
          "text": [
            "/usr/local/lib/python3.11/dist-packages/timm/models/registry.py:4: FutureWarning: Importing from timm.models.registry is deprecated, please import via timm.models\n",
            "  warnings.warn(f\"Importing from {__name__} is deprecated, please import via timm.models\", FutureWarning)\n",
            "/usr/local/lib/python3.11/dist-packages/timm/models/layers/__init__.py:48: FutureWarning: Importing from timm.models.layers is deprecated, please import via timm.layers\n",
            "  warnings.warn(f\"Importing from {__name__} is deprecated, please import via timm.layers\", FutureWarning)\n"
          ]
        }
      ],
      "source": [
        "# imports\n",
        "import os\n",
        "import sys\n",
        "import torch\n",
        "import torch.nn as nn\n",
        "import torch.nn.functional as F\n",
        "import torch.serialization\n",
        "import numpy as np\n",
        "import matplotlib.pyplot as plt\n",
        "import seaborn as sns\n",
        "from torch.utils.data import Dataset, random_split, DataLoader\n",
        "from torchvision import transforms\n",
        "from torchvision.transforms import Resize\n",
        "import torchaudio.transforms as T\n",
        "from torch.optim import AdamW\n",
        "from torch.optim.lr_scheduler import ReduceLROnPlateau, CyclicLR\n",
        "import torchaudio\n",
        "from collections import defaultdict\n",
        "from sklearn.preprocessing import MinMaxScaler\n",
        "from sklearn.metrics import confusion_matrix, classification_report, mean_squared_error\n",
        "from tqdm import tqdm\n",
        "from transformers import AutoModel, AutoModelForImageClassification\n",
        "from mambavision import create_model\n",
        "import argparse\n",
        "from data_utils import DEAMHandler, WaveDataset\n",
        "import random\n",
        "import librosa.display\n"
      ]
    },
    {
      "cell_type": "code",
      "execution_count": 5,
      "metadata": {
        "id": "A7bMhfaMypoE"
      },
      "outputs": [],
      "source": [
        "# -------------------- Dataset --------------------\n",
        "# Patching original WaveDataset to return regression label and Mel spectrogram\n",
        "class WaveToVisionWrapper(torch.utils.data.Dataset):\n",
        "    def __init__(self, wave_dataset, duration=45, sr=16000, img_size=224,\n",
        "                 valence_mean=0.5, valence_std=1.0, arousal_mean=0.5, arousal_std=1.0):\n",
        "        self.base_ds = wave_dataset\n",
        "        self.handler = wave_dataset.h\n",
        "        self.ids = wave_dataset.ids\n",
        "        self.duration = duration\n",
        "        self.sr = sr\n",
        "        self.max_len = sr * duration\n",
        "        self.mel = T.MelSpectrogram(sample_rate=sr, n_mels=128)\n",
        "        self.resize = Resize((img_size, img_size))\n",
        "        self.valence_mean = valence_mean\n",
        "        self.valence_std = valence_std\n",
        "        self.arousal_mean = arousal_mean\n",
        "        self.arousal_std = arousal_std\n",
        "    def __len__(self):\n",
        "        return len(self.base_ds)\n",
        "\n",
        "    def __getitem__(self, idx):\n",
        "        sid = self.ids[idx]\n",
        "\n",
        "        # Load preprocessed chunks from cache\n",
        "        mel_path = f\"/content/mel_cache/{sid}.pt\"\n",
        "         #f\"/mel_cache/{sid}.pt\"\n",
        "        if not os.path.exists(mel_path):\n",
        "            raise FileNotFoundError(f\"Missing cached mel: {mel_path}\")\n",
        "        chunks = torch.load(mel_path)  # shape: [num_chunks, 3, 224, 224]\n",
        "\n",
        "        # Load and normalize label\n",
        "        row = self.handler.static_annotations[self.handler.static_annotations[\"song_id\"] == sid]\n",
        "        valence = float(row[\"valence_mean\"].item())\n",
        "        arousal = float(row[\"arousal_mean\"].item())\n",
        "        valence = (valence - self.valence_mean) / self.valence_std\n",
        "        arousal = (arousal - self.arousal_mean) / self.arousal_std\n",
        "\n",
        "        label = torch.tensor([valence, arousal], dtype=torch.float32)\n",
        "        labels = torch.stack([label] * len(chunks))  # shape: [num_chunks, 2]\n",
        "\n",
        "        return chunks, labels, sid\n",
        "\n"
      ]
    },
    {
      "cell_type": "code",
      "execution_count": 4,
      "metadata": {
        "colab": {
          "base_uri": "https://localhost:8080/"
        },
        "id": "kcYD9qLlB-21",
        "outputId": "58bb6ea3-ba53-415e-a2ac-ec484b75b59f"
      },
      "outputs": [
        {
          "output_type": "stream",
          "name": "stdout",
          "text": [
            "Downloading DEAM via kagglehub …\n",
            "Downloading from https://www.kaggle.com/api/v1/datasets/download/imsparsh/deam-mediaeval-dataset-emotional-analysis-in-music?dataset_version_number=1...\n"
          ]
        },
        {
          "output_type": "stream",
          "name": "stderr",
          "text": [
            "100%|██████████| 1.83G/1.83G [01:33<00:00, 21.0MB/s]"
          ]
        },
        {
          "output_type": "stream",
          "name": "stdout",
          "text": [
            "Extracting files...\n"
          ]
        },
        {
          "output_type": "stream",
          "name": "stderr",
          "text": [
            "\n"
          ]
        },
        {
          "output_type": "stream",
          "name": "stdout",
          "text": [
            "Dataset root: /root/.cache/kagglehub/datasets/imsparsh/deam-mediaeval-dataset-emotional-analysis-in-music/versions/1\n",
            "Audio directory: /root/.cache/kagglehub/datasets/imsparsh/deam-mediaeval-dataset-emotional-analysis-in-music/versions/1/DEAM_audio/MEMD_audio\n",
            "\n",
            "Dataset Preview:\n",
            "   song_id  valence_mean  valence_std  arousal_mean  arousal_std\n",
            "0        2           3.1         0.94           3.0         0.63\n",
            "1        3           3.5         1.75           3.3         1.62\n",
            "2        4           5.7         1.42           5.5         1.63\n",
            "3        5           4.4         2.01           5.3         1.85\n",
            "4        7           5.8         1.47           6.4         1.69\n",
            "\n",
            "Dataset Info:\n",
            "<class 'pandas.core.frame.DataFrame'>\n",
            "RangeIndex: 1744 entries, 0 to 1743\n",
            "Data columns (total 5 columns):\n",
            " #   Column        Non-Null Count  Dtype  \n",
            "---  ------        --------------  -----  \n",
            " 0   song_id       1744 non-null   int64  \n",
            " 1   valence_mean  1744 non-null   float64\n",
            " 2   valence_std   1744 non-null   float64\n",
            " 3   arousal_mean  1744 non-null   float64\n",
            " 4   arousal_std   1744 non-null   float64\n",
            "dtypes: float64(4), int64(1)\n",
            "memory usage: 68.3 KB\n",
            "None\n",
            "\n",
            "Summary Statistics:\n",
            "           song_id  valence_mean  valence_std  arousal_mean  arousal_std\n",
            "count  1744.000000   1744.000000  1744.000000   1744.000000  1744.000000\n",
            "mean   1062.077982      4.903492     1.521950      4.812603     1.466778\n",
            "std     584.299005      1.173920     0.385496      1.289368     0.367197\n",
            "min       2.000000      1.600000     0.300000      1.600000     0.460000\n",
            "25%     536.750000      4.100000     1.270000      3.800000     1.200000\n",
            "50%    1128.500000      4.900000     1.510000      4.900000     1.480000\n",
            "75%    1564.250000      5.800000     1.780000      5.800000     1.720000\n",
            "max    2000.000000      8.400000     2.900000      8.100000     2.590000\n"
          ]
        }
      ],
      "source": [
        "# Downloading DEAM dataset from kagglehub\n",
        "handler = DEAMHandler()\n",
        "all_ids = handler.static_annotations[\"song_id\"].tolist()\n",
        "base_wave_ds = WaveDataset(handler, all_ids)"
      ]
    },
    {
      "cell_type": "code",
      "source": [
        "#create the data files\n",
        "# Parameters\n",
        "sr = 16000\n",
        "duration = 45\n",
        "max_len = sr * duration\n",
        "n_mels = 256\n",
        "n_fft = 2048\n",
        "hop_length = 512\n",
        "win_length = 2048\n",
        "\n",
        "mel_tf = torchaudio.transforms.MelSpectrogram(\n",
        "    sample_rate=sr,\n",
        "    n_mels=n_mels,\n",
        "    n_fft=n_fft,\n",
        "    hop_length=hop_length,\n",
        "    win_length=win_length\n",
        ")\n",
        "\n",
        "chunk_size_sec = 5\n",
        "samples_per_frame = 512\n",
        "frames_per_sec = sr // samples_per_frame  #  31\n",
        "chunk_frames = chunk_size_sec * frames_per_sec  # =  155\n",
        "\n",
        "target_chunks = 6\n",
        "mel_frames_total = (max_len // samples_per_frame)  # 1406 for 45 sec\n",
        "hop_frames = (mel_frames_total - chunk_frames) // (target_chunks - 1)\n",
        "\n",
        "print(f\"frames_per_sec={frames_per_sec}, chunk_frames={chunk_frames}, hop_frames={hop_frames}\")\n",
        "\n",
        "os.makedirs(\"mel_cache\", exist_ok=True)\n",
        "\n",
        "for sid in all_ids:\n",
        "    path = f\"mel_cache/{sid}.pt\"\n",
        "    if os.path.exists(path):\n",
        "        continue\n",
        "\n",
        "    wav_np, _ = handler.get_waveform(sid, target_sr=sr, mono=True)\n",
        "    waveform = torch.tensor(wav_np[:max_len]).unsqueeze(0)  # [1, T]\n",
        "\n",
        "    mel = mel_tf(waveform).log2().clamp(min=-10).squeeze(0)  # [n_mels, time]\n",
        "\n",
        "    # Normalize per sample\n",
        "    mel = (mel - mel.mean()) / (mel.std() + 1e-6)\n",
        "\n",
        "    chunks = []\n",
        "    for i in range(target_chunks):\n",
        "        start = i * hop_frames\n",
        "        chunk = mel[:, start:start + chunk_frames]\n",
        "        if chunk.shape[-1] == chunk_frames:\n",
        "            chunk = chunk.unsqueeze(0).repeat(3, 1, 1)  # [3, n_mels, T]\n",
        "            chunk = F.interpolate(\n",
        "                chunk.unsqueeze(0),\n",
        "                size=(224, 224),\n",
        "                mode='bilinear',\n",
        "                align_corners=False\n",
        "            )\n",
        "            chunks.append(chunk.squeeze(0))  # [3, 224, 224]\n",
        "\n",
        "    if chunks:\n",
        "        chunks_tensor = torch.stack(chunks)  # [target_chunks, 3, 224, 224]\n",
        "        torch.save(chunks_tensor, path)\n"
      ],
      "metadata": {
        "colab": {
          "base_uri": "https://localhost:8080/"
        },
        "id": "FdXiP5O9ek8a",
        "outputId": "2d443859-850f-41ae-8882-19b280790604"
      },
      "execution_count": 6,
      "outputs": [
        {
          "output_type": "stream",
          "name": "stdout",
          "text": [
            "frames_per_sec=31, chunk_frames=155, hop_frames=250\n"
          ]
        }
      ]
    },
    {
      "cell_type": "markdown",
      "metadata": {
        "id": "JoLgfJvGKh_N"
      },
      "source": [
        "# New Section"
      ]
    },
    {
      "cell_type": "code",
      "execution_count": 7,
      "metadata": {
        "id": "NKp7pk74kipN"
      },
      "outputs": [],
      "source": []
    },
    {
      "cell_type": "code",
      "source": [
        "SEED = 42\n",
        "\n",
        "# Set all relevant seeds for reproducibility\n",
        "random.seed(SEED)\n",
        "np.random.seed(SEED)\n",
        "torch.manual_seed(SEED)\n",
        "if torch.cuda.is_available():\n",
        "    torch.cuda.manual_seed_all(SEED)\n",
        "\n",
        "#  TEMP: wrap dataset to access song IDs for splitting\n",
        "full_ds = WaveToVisionWrapper(base_wave_ds)\n",
        "\n",
        "# Split to train / val / test\n",
        "train_size = int(0.8 * len(full_ds))\n",
        "val_size   = int(0.1 * len(full_ds))\n",
        "test_size  = len(full_ds) - train_size - val_size\n",
        "train_ds_raw, val_ds_raw, test_ds_raw = torch.utils.data.random_split(\n",
        "    full_ds,\n",
        "    [train_size, val_size, test_size],\n",
        "    generator=torch.Generator().manual_seed(SEED)\n",
        ")\n",
        "\n",
        "#  Compute normalization stats using only train + val\n",
        "train_val_indices = train_ds_raw.indices + val_ds_raw.indices\n",
        "train_val_ids = [full_ds.ids[i] for i in train_val_indices]\n",
        "train_val_rows = handler.static_annotations[handler.static_annotations[\"song_id\"].isin(train_val_ids)]\n",
        "vals = train_val_rows[[\"valence_mean\", \"arousal_mean\"]].values\n",
        "valence_mean, arousal_mean = vals.mean(axis=0)\n",
        "valence_std, arousal_std = vals.std(axis=0)\n",
        "\n",
        "print(f\"Valence Mean: {valence_mean:.4f}, Std: {valence_std:.4f}\")\n",
        "print(f\"Arousal Mean: {arousal_mean:.4f}, Std: {arousal_std:.4f}\")\n",
        "\n",
        "# Re-create dataset with normalization applied\n",
        "full_ds = WaveToVisionWrapper(\n",
        "    base_wave_ds,\n",
        "    valence_mean=valence_mean,\n",
        "    valence_std=valence_std,\n",
        "    arousal_mean=arousal_mean,\n",
        "    arousal_std=arousal_std\n",
        ")\n",
        "\n",
        "#  Re-split full_ds using the same indices\n",
        "train_ds = torch.utils.data.Subset(full_ds, train_ds_raw.indices)\n",
        "val_ds   = torch.utils.data.Subset(full_ds, val_ds_raw.indices)\n",
        "test_ds  = torch.utils.data.Subset(full_ds, test_ds_raw.indices)\n"
      ],
      "metadata": {
        "colab": {
          "base_uri": "https://localhost:8080/"
        },
        "id": "vYLKIJn4uGrx",
        "outputId": "a2236d0b-49af-4d9e-b31a-199da682a3e6"
      },
      "execution_count": 13,
      "outputs": [
        {
          "output_type": "stream",
          "name": "stdout",
          "text": [
            "Valence Mean: 4.9069, Std: 1.1798\n",
            "Arousal Mean: 4.8196, Std: 1.2882\n"
          ]
        },
        {
          "output_type": "stream",
          "name": "stderr",
          "text": [
            "/usr/local/lib/python3.11/dist-packages/torchaudio/functional/functional.py:584: UserWarning: At least one mel filterbank has all zero values. The value for `n_mels` (128) may be set too high. Or, the value for `n_freqs` (201) may be set too low.\n",
            "  warnings.warn(\n"
          ]
        }
      ]
    },
    {
      "cell_type": "code",
      "source": [
        "# == Hyperparameters ==\n",
        "BATCH_SIZE      = 16\n",
        "max_LR          = 1e-3\n",
        "min_LR          = 1e-5\n",
        "LR              = 1e-4\n",
        "EPOCHS          = 50\n",
        "weight_decay    = 1e-4\n",
        "var_lambda = 0.05\n",
        "corr_lambda = 0.05\n",
        "train_augmentations = transforms.Compose([\n",
        "    transforms.RandomApply([T.TimeMasking(time_mask_param=30)], p=0.5),\n",
        "    transforms.RandomApply([T.FrequencyMasking(freq_mask_param=15)], p=0.5)\n",
        "])"
      ],
      "metadata": {
        "id": "qDsrIdHvBsP2"
      },
      "execution_count": 23,
      "outputs": []
    },
    {
      "cell_type": "code",
      "execution_count": 24,
      "metadata": {
        "id": "2PM5qWZVtJB3"
      },
      "outputs": [],
      "source": [
        "class MambaEmotionRegressor(nn.Module):\n",
        "    def __init__(self, device, pretrained=True, augmentations=None):\n",
        "        super().__init__()\n",
        "        self.device = device\n",
        "        self.backbone = create_model('mamba_vision_S', pretrained=pretrained).to(self.device)\n",
        "        self.augmentations = augmentations\n",
        "        self.SpecialAug = None\n",
        "        with torch.no_grad():\n",
        "            dummy = torch.randn(1, 3, 224, 224).to(self.device)\n",
        "            self.backbone.eval()\n",
        "            feature_vec = self.backbone.forward_features(dummy)\n",
        "            feature_dim = feature_vec.shape[1]\n",
        "\n",
        "        # Separate heads for Valence and Arousal\n",
        "        self.valence_head = nn.Sequential(\n",
        "            nn.Linear(feature_dim, 512),\n",
        "            nn.LeakyReLU(),\n",
        "            nn.Dropout(0.2),\n",
        "            nn.Linear(512, 128),\n",
        "            nn.LeakyReLU(),\n",
        "            nn.Dropout(0.1),\n",
        "            nn.Linear(128, 1)\n",
        "        ).to(self.device)\n",
        "\n",
        "        self.arousal_head = nn.Sequential(\n",
        "            nn.Linear(feature_dim, 512),\n",
        "            nn.LeakyReLU(),\n",
        "            nn.Dropout(0.2),\n",
        "            nn.Linear(512, 128),\n",
        "            nn.LeakyReLU(),\n",
        "            nn.Dropout(0.1),\n",
        "            nn.Linear(128, 1)\n",
        "        ).to(self.device)\n",
        "\n",
        "\n",
        "    def forward(self, x, mode='test'):\n",
        "        if x.dim() == 3:\n",
        "            x = x.unsqueeze(1)  # [B, 1, 128, T]\n",
        "        if x.shape[1] == 1:\n",
        "            x = x.repeat(1, 3, 1, 1)  # [B, 3, 128, T]\n",
        "        if self.augmentations and mode == 'train':\n",
        "            x = self.augmentations(x)\n",
        "            if self.SpecialAug:\n",
        "                x = self.SpecialAug(x)\n",
        "        features = self.backbone.forward_features(x)\n",
        "        valence = self.valence_head(features)\n",
        "        arousal = self.arousal_head(features)\n",
        "\n",
        "        return torch.cat([valence, arousal], dim=1)\n",
        "\n",
        "\n",
        "    def freeze_backbone(self):\n",
        "        #Freeze all backbone parameters (except for regressor and head)\n",
        "        for param in self.backbone.parameters():\n",
        "            param.requires_grad = False\n"
      ]
    },
    {
      "cell_type": "code",
      "execution_count": 25,
      "metadata": {
        "id": "OFWXgbCqu9bs"
      },
      "outputs": [],
      "source": [
        "def train(model, loader, optimizer,scheduler, device,var_lambda,corr_lambda):\n",
        "    model.train()\n",
        "    total_loss = 0\n",
        "    target_chunks = 6\n",
        "\n",
        "    # Wrap the DataLoader with tqdm for progress bar\n",
        "    for x, y, _ in tqdm(loader, desc=\"Training\", leave=False):\n",
        "        x, y = x.to(device), y.to(device)\n",
        "        pred = model(x, mode='train')\n",
        "        loss = F.mse_loss(pred, y)\n",
        "\n",
        "        var_penalty = -torch.var(pred, dim=0).mean()  # negative to encourage spreading\n",
        "        # Compute correlation between valence and arousal in predicted values\n",
        "        vx = pred[:, 0] - pred[:, 0].mean()\n",
        "        vy = pred[:, 1] - pred[:, 1].mean()\n",
        "        corr = torch.sum(vx * vy) / (torch.norm(vx) * torch.norm(vy) + 1e-8)\n",
        "\n",
        "        corr_penalty = corr**2  # squared to avoid negative correlation\n",
        "        loss = loss + var_lambda * var_penalty + corr_lambda * corr_penalty\n",
        "        optimizer.zero_grad()\n",
        "        loss.backward()\n",
        "        optimizer.step()\n",
        "        scheduler.step()  # for CyclicLR\n",
        "        total_loss += loss.item() * x.size(0)\n",
        "        # print(f\"Batch LR: {optimizer.param_groups[0]['lr']:.6f}\")\n",
        "\n",
        "    return (total_loss / len(loader.dataset))/target_chunks\n",
        "\n",
        "def evaluate(model, loader, device):\n",
        "    model.eval()\n",
        "\n",
        "    song_sums = defaultdict(lambda: torch.zeros(2))\n",
        "    song_counts = defaultdict(int)\n",
        "    song_targets = {}\n",
        "\n",
        "    with torch.no_grad():\n",
        "        for x, y, sids in loader:\n",
        "            x, y = x.to(device), y.to(device)\n",
        "            pred = model(x)\n",
        "            for i in range(len(sids)):\n",
        "                sid = sids[i]\n",
        "                song_sums[sid] += pred[i].detach().cpu()\n",
        "                song_counts[sid] += 1\n",
        "                song_targets[sid] = y[i].cpu()\n",
        "\n",
        "    avg_preds, avg_targets = [], []\n",
        "    for sid in song_sums:\n",
        "        avg_pred = song_sums[sid] / song_counts[sid]\n",
        "        avg_preds.append(avg_pred)\n",
        "        avg_targets.append(song_targets[sid])\n",
        "\n",
        "    avg_preds = torch.stack(avg_preds)\n",
        "    avg_targets = torch.stack(avg_targets)\n",
        "    loss = F.mse_loss(avg_preds, avg_targets)\n",
        "\n",
        "    return loss.item(), avg_preds, avg_targets\n"
      ]
    },
    {
      "cell_type": "code",
      "execution_count": 18,
      "metadata": {
        "id": "8GmLzLOPJGMs",
        "colab": {
          "base_uri": "https://localhost:8080/"
        },
        "outputId": "978908aa-28e5-4450-9263-35a6cf767246"
      },
      "outputs": [
        {
          "output_type": "stream",
          "name": "stderr",
          "text": [
            "100%|██████████| 574M/574M [00:12<00:00, 48.1MB/s]\n"
          ]
        }
      ],
      "source": [
        "#model initializing\n",
        "\n",
        "torch.serialization.add_safe_globals([argparse.Namespace])\n",
        "\n",
        "# Set device\n",
        "device = torch.device(\"cuda\" if torch.cuda.is_available() else \"cpu\")\n",
        "\n",
        "# Initialize Model & Optimizer\n",
        "model = MambaEmotionRegressor(device=device, augmentations=train_augmentations)\n",
        "model.freeze_backbone()  # Freeze the backbone first\n",
        "\n",
        "# Unfreeze the head and upper levels\n",
        "for param in model.backbone.head.parameters():\n",
        "    param.requires_grad = True\n",
        "for param in model.backbone.levels[-1].parameters():\n",
        "    param.requires_grad = True\n",
        "for param in model.backbone.levels[-2].parameters():\n",
        "    param.requires_grad = True\n",
        "\n",
        "trainable_params = (\n",
        "    list(model.backbone.head.parameters()) +\n",
        "    list(model.valence_head.parameters()) +\n",
        "    list(model.arousal_head.parameters()) +\n",
        "    list(model.backbone.levels[-1].parameters())+\n",
        "    list(model.backbone.levels[-2].parameters())\n",
        ")\n",
        "\n",
        "optimizer = torch.optim.AdamW(trainable_params,lr=min_LR,weight_decay=weight_decay)\n",
        "scheduler = CyclicLR(\n",
        "    optimizer,\n",
        "    base_lr=min_LR,\n",
        "    max_lr=max_LR,\n",
        "    step_size_up=134,    # Steps to reach max_lr\n",
        "    mode='triangular2',\n",
        "    cycle_momentum=False\n",
        ")\n",
        "\n",
        "train_losses = []\n",
        "val_losses = []"
      ]
    },
    {
      "cell_type": "code",
      "execution_count": 26,
      "metadata": {
        "id": "HGv7nJmyL9wl"
      },
      "outputs": [],
      "source": [
        "def collate_chunks_as_batch(batch):\n",
        "    all_chunks = []\n",
        "    all_labels = []\n",
        "    all_ids = []\n",
        "\n",
        "    for chunks, labels, sid in batch:\n",
        "        all_chunks.append(chunks)       # [num_chunks, 3, H, W]\n",
        "        all_labels.append(labels)       # [num_chunks, 2]\n",
        "        all_ids.extend([sid] * chunks.shape[0])  # one sid per chunk\n",
        "\n",
        "    return torch.cat(all_chunks), torch.cat(all_labels), all_ids\n",
        "\n",
        "#Create DataLoaders\n",
        "train_loader = DataLoader(train_ds, batch_size=BATCH_SIZE, shuffle=True,\n",
        "                          num_workers=2, pin_memory=True, collate_fn=collate_chunks_as_batch)\n",
        "val_loader   = DataLoader(val_ds, batch_size=BATCH_SIZE, shuffle=False,\n",
        "                          num_workers=2, pin_memory=True, collate_fn=collate_chunks_as_batch)\n",
        "test_loader  = DataLoader(test_ds, batch_size=BATCH_SIZE, shuffle=False,\n",
        "                          num_workers=2, pin_memory=True, collate_fn=collate_chunks_as_batch)\n"
      ]
    },
    {
      "cell_type": "code",
      "execution_count": 27,
      "metadata": {
        "colab": {
          "base_uri": "https://localhost:8080/"
        },
        "id": "_d-pcHKtJIpq",
        "outputId": "1945e9b0-0757-47c3-b6c5-538f679867b8"
      },
      "outputs": [
        {
          "output_type": "stream",
          "name": "stderr",
          "text": []
        },
        {
          "output_type": "stream",
          "name": "stdout",
          "text": [
            "Saved new best model at epoch 1\n",
            "Epoch 01 | Train Loss: 0.7159 | Val Loss: 0.5871 | LR: 0.000660\n"
          ]
        },
        {
          "output_type": "stream",
          "name": "stderr",
          "text": []
        },
        {
          "output_type": "stream",
          "name": "stdout",
          "text": [
            "Epoch 02 | Train Loss: 0.5884 | Val Loss: 0.6010 | LR: 0.000690\n"
          ]
        },
        {
          "output_type": "stream",
          "name": "stderr",
          "text": []
        },
        {
          "output_type": "stream",
          "name": "stdout",
          "text": [
            "Saved new best model at epoch 3\n",
            "Epoch 03 | Train Loss: 0.5159 | Val Loss: 0.4119 | LR: 0.000040\n"
          ]
        },
        {
          "output_type": "stream",
          "name": "stderr",
          "text": []
        },
        {
          "output_type": "stream",
          "name": "stdout",
          "text": [
            "Epoch 04 | Train Loss: 0.4545 | Val Loss: 0.4313 | LR: 0.000320\n"
          ]
        },
        {
          "output_type": "stream",
          "name": "stderr",
          "text": []
        },
        {
          "output_type": "stream",
          "name": "stdout",
          "text": [
            "Saved new best model at epoch 5\n",
            "Epoch 05 | Train Loss: 0.4636 | Val Loss: 0.4043 | LR: 0.000365\n"
          ]
        },
        {
          "output_type": "stream",
          "name": "stderr",
          "text": []
        },
        {
          "output_type": "stream",
          "name": "stdout",
          "text": [
            "Saved new best model at epoch 6\n",
            "Epoch 06 | Train Loss: 0.4171 | Val Loss: 0.3947 | LR: 0.000040\n"
          ]
        },
        {
          "output_type": "stream",
          "name": "stderr",
          "text": []
        },
        {
          "output_type": "stream",
          "name": "stdout",
          "text": [
            "Epoch 07 | Train Loss: 0.3832 | Val Loss: 0.4219 | LR: 0.000158\n"
          ]
        },
        {
          "output_type": "stream",
          "name": "stderr",
          "text": []
        },
        {
          "output_type": "stream",
          "name": "stdout",
          "text": [
            "Epoch 08 | Train Loss: 0.3794 | Val Loss: 0.4088 | LR: 0.000195\n"
          ]
        },
        {
          "output_type": "stream",
          "name": "stderr",
          "text": []
        },
        {
          "output_type": "stream",
          "name": "stdout",
          "text": [
            "Saved new best model at epoch 9\n",
            "Epoch 09 | Train Loss: 0.3368 | Val Loss: 0.3704 | LR: 0.000032\n"
          ]
        },
        {
          "output_type": "stream",
          "name": "stderr",
          "text": []
        },
        {
          "output_type": "stream",
          "name": "stdout",
          "text": [
            "Saved new best model at epoch 10\n",
            "Epoch 10 | Train Loss: 0.2799 | Val Loss: 0.3671 | LR: 0.000080\n"
          ]
        },
        {
          "output_type": "stream",
          "name": "stderr",
          "text": []
        },
        {
          "output_type": "stream",
          "name": "stdout",
          "text": [
            "Epoch 11 | Train Loss: 0.2822 | Val Loss: 0.3847 | LR: 0.000106\n"
          ]
        },
        {
          "output_type": "stream",
          "name": "stderr",
          "text": []
        },
        {
          "output_type": "stream",
          "name": "stdout",
          "text": [
            "Saved new best model at epoch 12\n",
            "Epoch 12 | Train Loss: 0.2489 | Val Loss: 0.3667 | LR: 0.000025\n"
          ]
        },
        {
          "output_type": "stream",
          "name": "stderr",
          "text": []
        },
        {
          "output_type": "stream",
          "name": "stdout",
          "text": [
            "Epoch 13 | Train Loss: 0.2192 | Val Loss: 0.3791 | LR: 0.000043\n"
          ]
        },
        {
          "output_type": "stream",
          "name": "stderr",
          "text": []
        },
        {
          "output_type": "stream",
          "name": "stdout",
          "text": [
            "Epoch 14 | Train Loss: 0.2168 | Val Loss: 0.3765 | LR: 0.000060\n"
          ]
        },
        {
          "output_type": "stream",
          "name": "stderr",
          "text": []
        },
        {
          "output_type": "stream",
          "name": "stdout",
          "text": [
            "Epoch 15 | Train Loss: 0.1933 | Val Loss: 0.3842 | LR: 0.000019\n"
          ]
        },
        {
          "output_type": "stream",
          "name": "stderr",
          "text": []
        },
        {
          "output_type": "stream",
          "name": "stdout",
          "text": [
            "Epoch 16 | Train Loss: 0.1836 | Val Loss: 0.3688 | LR: 0.000026\n"
          ]
        },
        {
          "output_type": "stream",
          "name": "stderr",
          "text": []
        },
        {
          "output_type": "stream",
          "name": "stdout",
          "text": [
            "Epoch 17 | Train Loss: 0.1928 | Val Loss: 0.3779 | LR: 0.000036\n"
          ]
        },
        {
          "output_type": "stream",
          "name": "stderr",
          "text": []
        },
        {
          "output_type": "stream",
          "name": "stdout",
          "text": [
            "Saved new best model at epoch 18\n",
            "Epoch 18 | Train Loss: 0.1710 | Val Loss: 0.3622 | LR: 0.000016\n"
          ]
        },
        {
          "output_type": "stream",
          "name": "stderr",
          "text": []
        },
        {
          "output_type": "stream",
          "name": "stdout",
          "text": [
            "Epoch 19 | Train Loss: 0.1717 | Val Loss: 0.3672 | LR: 0.000017\n"
          ]
        },
        {
          "output_type": "stream",
          "name": "stderr",
          "text": []
        },
        {
          "output_type": "stream",
          "name": "stdout",
          "text": [
            "Epoch 20 | Train Loss: 0.1632 | Val Loss: 0.3634 | LR: 0.000023\n"
          ]
        },
        {
          "output_type": "stream",
          "name": "stderr",
          "text": []
        },
        {
          "output_type": "stream",
          "name": "stdout",
          "text": [
            "Epoch 21 | Train Loss: 0.1568 | Val Loss: 0.3768 | LR: 0.000013\n"
          ]
        },
        {
          "output_type": "stream",
          "name": "stderr",
          "text": []
        },
        {
          "output_type": "stream",
          "name": "stdout",
          "text": [
            "Epoch 22 | Train Loss: 0.1651 | Val Loss: 0.3679 | LR: 0.000013\n"
          ]
        },
        {
          "output_type": "stream",
          "name": "stderr",
          "text": []
        },
        {
          "output_type": "stream",
          "name": "stdout",
          "text": [
            "Epoch 23 | Train Loss: 0.1689 | Val Loss: 0.3625 | LR: 0.000017\n"
          ]
        },
        {
          "output_type": "stream",
          "name": "stderr",
          "text": []
        },
        {
          "output_type": "stream",
          "name": "stdout",
          "text": [
            "Saved new best model at epoch 24\n",
            "Epoch 24 | Train Loss: 0.1549 | Val Loss: 0.3602 | LR: 0.000012\n"
          ]
        },
        {
          "output_type": "stream",
          "name": "stderr",
          "text": []
        },
        {
          "output_type": "stream",
          "name": "stdout",
          "text": [
            "Epoch 25 | Train Loss: 0.1569 | Val Loss: 0.3668 | LR: 0.000012\n"
          ]
        },
        {
          "output_type": "stream",
          "name": "stderr",
          "text": []
        },
        {
          "output_type": "stream",
          "name": "stdout",
          "text": [
            "Epoch 26 | Train Loss: 0.1503 | Val Loss: 0.3616 | LR: 0.000014\n"
          ]
        },
        {
          "output_type": "stream",
          "name": "stderr",
          "text": []
        },
        {
          "output_type": "stream",
          "name": "stdout",
          "text": [
            "Saved new best model at epoch 27\n",
            "Epoch 27 | Train Loss: 0.1579 | Val Loss: 0.3567 | LR: 0.000011\n"
          ]
        },
        {
          "output_type": "stream",
          "name": "stderr",
          "text": []
        },
        {
          "output_type": "stream",
          "name": "stdout",
          "text": [
            "Epoch 28 | Train Loss: 0.1380 | Val Loss: 0.3616 | LR: 0.000011\n"
          ]
        },
        {
          "output_type": "stream",
          "name": "stderr",
          "text": []
        },
        {
          "output_type": "stream",
          "name": "stdout",
          "text": [
            "Epoch 29 | Train Loss: 0.1438 | Val Loss: 0.3621 | LR: 0.000012\n"
          ]
        },
        {
          "output_type": "stream",
          "name": "stderr",
          "text": []
        },
        {
          "output_type": "stream",
          "name": "stdout",
          "text": [
            "Epoch 30 | Train Loss: 0.1437 | Val Loss: 0.3652 | LR: 0.000011\n"
          ]
        },
        {
          "output_type": "stream",
          "name": "stderr",
          "text": []
        },
        {
          "output_type": "stream",
          "name": "stdout",
          "text": [
            "Epoch 31 | Train Loss: 0.1421 | Val Loss: 0.3665 | LR: 0.000010\n"
          ]
        },
        {
          "output_type": "stream",
          "name": "stderr",
          "text": []
        },
        {
          "output_type": "stream",
          "name": "stdout",
          "text": [
            "Epoch 32 | Train Loss: 0.1455 | Val Loss: 0.3822 | LR: 0.000011\n"
          ]
        },
        {
          "output_type": "stream",
          "name": "stderr",
          "text": []
        },
        {
          "output_type": "stream",
          "name": "stdout",
          "text": [
            "Epoch 33 | Train Loss: 0.1334 | Val Loss: 0.3745 | LR: 0.000010\n"
          ]
        },
        {
          "output_type": "stream",
          "name": "stderr",
          "text": []
        },
        {
          "output_type": "stream",
          "name": "stdout",
          "text": [
            "Epoch 34 | Train Loss: 0.1393 | Val Loss: 0.3621 | LR: 0.000010\n"
          ]
        },
        {
          "output_type": "stream",
          "name": "stderr",
          "text": []
        },
        {
          "output_type": "stream",
          "name": "stdout",
          "text": [
            "Epoch 35 | Train Loss: 0.1365 | Val Loss: 0.3650 | LR: 0.000010\n"
          ]
        },
        {
          "output_type": "stream",
          "name": "stderr",
          "text": []
        },
        {
          "output_type": "stream",
          "name": "stdout",
          "text": [
            "Epoch 36 | Train Loss: 0.1188 | Val Loss: 0.3717 | LR: 0.000010\n"
          ]
        },
        {
          "output_type": "stream",
          "name": "stderr",
          "text": []
        },
        {
          "output_type": "stream",
          "name": "stdout",
          "text": [
            "Epoch 37 | Train Loss: 0.1331 | Val Loss: 0.3632 | LR: 0.000010\n"
          ]
        },
        {
          "output_type": "stream",
          "name": "stderr",
          "text": []
        },
        {
          "output_type": "stream",
          "name": "stdout",
          "text": [
            "Epoch 38 | Train Loss: 0.1238 | Val Loss: 0.3711 | LR: 0.000010\n"
          ]
        },
        {
          "output_type": "stream",
          "name": "stderr",
          "text": []
        },
        {
          "output_type": "stream",
          "name": "stdout",
          "text": [
            "Epoch 39 | Train Loss: 0.1206 | Val Loss: 0.3588 | LR: 0.000010\n"
          ]
        },
        {
          "output_type": "stream",
          "name": "stderr",
          "text": []
        },
        {
          "output_type": "stream",
          "name": "stdout",
          "text": [
            "Epoch 40 | Train Loss: 0.1312 | Val Loss: 0.3673 | LR: 0.000010\n"
          ]
        },
        {
          "output_type": "stream",
          "name": "stderr",
          "text": []
        },
        {
          "output_type": "stream",
          "name": "stdout",
          "text": [
            "Epoch 41 | Train Loss: 0.1247 | Val Loss: 0.3591 | LR: 0.000010\n"
          ]
        },
        {
          "output_type": "stream",
          "name": "stderr",
          "text": []
        },
        {
          "output_type": "stream",
          "name": "stdout",
          "text": [
            "Epoch 42 | Train Loss: 0.1252 | Val Loss: 0.3811 | LR: 0.000010\n"
          ]
        },
        {
          "output_type": "stream",
          "name": "stderr",
          "text": []
        },
        {
          "output_type": "stream",
          "name": "stdout",
          "text": [
            "Epoch 43 | Train Loss: 0.1250 | Val Loss: 0.3678 | LR: 0.000010\n"
          ]
        },
        {
          "output_type": "stream",
          "name": "stderr",
          "text": []
        },
        {
          "output_type": "stream",
          "name": "stdout",
          "text": [
            "Epoch 44 | Train Loss: 0.1236 | Val Loss: 0.3670 | LR: 0.000010\n"
          ]
        },
        {
          "output_type": "stream",
          "name": "stderr",
          "text": []
        },
        {
          "output_type": "stream",
          "name": "stdout",
          "text": [
            "Epoch 45 | Train Loss: 0.1158 | Val Loss: 0.3725 | LR: 0.000010\n"
          ]
        },
        {
          "output_type": "stream",
          "name": "stderr",
          "text": []
        },
        {
          "output_type": "stream",
          "name": "stdout",
          "text": [
            "Epoch 46 | Train Loss: 0.1125 | Val Loss: 0.3625 | LR: 0.000010\n"
          ]
        },
        {
          "output_type": "stream",
          "name": "stderr",
          "text": []
        },
        {
          "output_type": "stream",
          "name": "stdout",
          "text": [
            "Epoch 47 | Train Loss: 0.1133 | Val Loss: 0.3630 | LR: 0.000010\n"
          ]
        },
        {
          "output_type": "stream",
          "name": "stderr",
          "text": []
        },
        {
          "output_type": "stream",
          "name": "stdout",
          "text": [
            "Epoch 48 | Train Loss: 0.1135 | Val Loss: 0.3661 | LR: 0.000010\n"
          ]
        },
        {
          "output_type": "stream",
          "name": "stderr",
          "text": []
        },
        {
          "output_type": "stream",
          "name": "stdout",
          "text": [
            "Epoch 49 | Train Loss: 0.1108 | Val Loss: 0.3770 | LR: 0.000010\n"
          ]
        },
        {
          "output_type": "stream",
          "name": "stderr",
          "text": []
        },
        {
          "output_type": "stream",
          "name": "stdout",
          "text": [
            "Epoch 50 | Train Loss: 0.1087 | Val Loss: 0.3646 | LR: 0.000010\n"
          ]
        }
      ],
      "source": [
        "# Train\n",
        "best_val_loss = float('inf')  # initialize\n",
        "\n",
        "for epoch in range(1, EPOCHS + 1):\n",
        "    train_loss = train(model, train_loader, optimizer,scheduler,device,var_lambda,corr_lambda)\n",
        "    val_loss, _, _ = evaluate(model, val_loader, device)\n",
        "    train_losses.append(train_loss)\n",
        "    val_losses.append(val_loss)\n",
        "    if val_loss < best_val_loss:\n",
        "        best_val_loss = val_loss\n",
        "        torch.save(model.state_dict(), 'best_model.pth')  # Save model weights\n",
        "        print(f\"Saved new best model at epoch {epoch}\")\n",
        "\n",
        "    #scheduler.step(val_loss)\n",
        "    for i, param_group in enumerate(optimizer.param_groups):\n",
        "      print(f\"Epoch {epoch:02d} | Train Loss: {train_loss:.4f} | Val Loss: {val_loss:.4f} | LR: {param_group['lr']:.6f}\")"
      ]
    },
    {
      "cell_type": "code",
      "source": [
        "# Load best model - the one with the lowest val error\n",
        "model.load_state_dict(torch.load('best_model.pth'))\n",
        "model.eval()  # eval mode for inference"
      ],
      "metadata": {
        "id": "cS4dwwZ1fQfJ",
        "colab": {
          "base_uri": "https://localhost:8080/"
        },
        "outputId": "036f26c1-8682-4d28-802f-bd22685a2525"
      },
      "execution_count": 28,
      "outputs": [
        {
          "output_type": "execute_result",
          "data": {
            "text/plain": [
              "MambaEmotionRegressor(\n",
              "  (backbone): MambaVision(\n",
              "    (patch_embed): PatchEmbed(\n",
              "      (proj): Identity()\n",
              "      (conv_down): Sequential(\n",
              "        (0): Conv2d(3, 64, kernel_size=(3, 3), stride=(2, 2), padding=(1, 1), bias=False)\n",
              "        (1): BatchNorm2d(64, eps=0.0001, momentum=0.1, affine=True, track_running_stats=True)\n",
              "        (2): ReLU()\n",
              "        (3): Conv2d(64, 96, kernel_size=(3, 3), stride=(2, 2), padding=(1, 1), bias=False)\n",
              "        (4): BatchNorm2d(96, eps=0.0001, momentum=0.1, affine=True, track_running_stats=True)\n",
              "        (5): ReLU()\n",
              "      )\n",
              "    )\n",
              "    (levels): ModuleList(\n",
              "      (0): MambaVisionLayer(\n",
              "        (blocks): ModuleList(\n",
              "          (0): ConvBlock(\n",
              "            (conv1): Conv2d(96, 96, kernel_size=(3, 3), stride=(1, 1), padding=(1, 1))\n",
              "            (norm1): BatchNorm2d(96, eps=1e-05, momentum=0.1, affine=True, track_running_stats=True)\n",
              "            (act1): GELU(approximate='tanh')\n",
              "            (conv2): Conv2d(96, 96, kernel_size=(3, 3), stride=(1, 1), padding=(1, 1))\n",
              "            (norm2): BatchNorm2d(96, eps=1e-05, momentum=0.1, affine=True, track_running_stats=True)\n",
              "            (drop_path): Identity()\n",
              "          )\n",
              "          (1): ConvBlock(\n",
              "            (conv1): Conv2d(96, 96, kernel_size=(3, 3), stride=(1, 1), padding=(1, 1))\n",
              "            (norm1): BatchNorm2d(96, eps=1e-05, momentum=0.1, affine=True, track_running_stats=True)\n",
              "            (act1): GELU(approximate='tanh')\n",
              "            (conv2): Conv2d(96, 96, kernel_size=(3, 3), stride=(1, 1), padding=(1, 1))\n",
              "            (norm2): BatchNorm2d(96, eps=1e-05, momentum=0.1, affine=True, track_running_stats=True)\n",
              "            (drop_path): DropPath(drop_prob=0.012)\n",
              "          )\n",
              "          (2): ConvBlock(\n",
              "            (conv1): Conv2d(96, 96, kernel_size=(3, 3), stride=(1, 1), padding=(1, 1))\n",
              "            (norm1): BatchNorm2d(96, eps=1e-05, momentum=0.1, affine=True, track_running_stats=True)\n",
              "            (act1): GELU(approximate='tanh')\n",
              "            (conv2): Conv2d(96, 96, kernel_size=(3, 3), stride=(1, 1), padding=(1, 1))\n",
              "            (norm2): BatchNorm2d(96, eps=1e-05, momentum=0.1, affine=True, track_running_stats=True)\n",
              "            (drop_path): DropPath(drop_prob=0.024)\n",
              "          )\n",
              "        )\n",
              "        (downsample): Downsample(\n",
              "          (reduction): Sequential(\n",
              "            (0): Conv2d(96, 192, kernel_size=(3, 3), stride=(2, 2), padding=(1, 1), bias=False)\n",
              "          )\n",
              "        )\n",
              "      )\n",
              "      (1): MambaVisionLayer(\n",
              "        (blocks): ModuleList(\n",
              "          (0): ConvBlock(\n",
              "            (conv1): Conv2d(192, 192, kernel_size=(3, 3), stride=(1, 1), padding=(1, 1))\n",
              "            (norm1): BatchNorm2d(192, eps=1e-05, momentum=0.1, affine=True, track_running_stats=True)\n",
              "            (act1): GELU(approximate='tanh')\n",
              "            (conv2): Conv2d(192, 192, kernel_size=(3, 3), stride=(1, 1), padding=(1, 1))\n",
              "            (norm2): BatchNorm2d(192, eps=1e-05, momentum=0.1, affine=True, track_running_stats=True)\n",
              "            (drop_path): DropPath(drop_prob=0.035)\n",
              "          )\n",
              "          (1): ConvBlock(\n",
              "            (conv1): Conv2d(192, 192, kernel_size=(3, 3), stride=(1, 1), padding=(1, 1))\n",
              "            (norm1): BatchNorm2d(192, eps=1e-05, momentum=0.1, affine=True, track_running_stats=True)\n",
              "            (act1): GELU(approximate='tanh')\n",
              "            (conv2): Conv2d(192, 192, kernel_size=(3, 3), stride=(1, 1), padding=(1, 1))\n",
              "            (norm2): BatchNorm2d(192, eps=1e-05, momentum=0.1, affine=True, track_running_stats=True)\n",
              "            (drop_path): DropPath(drop_prob=0.047)\n",
              "          )\n",
              "          (2): ConvBlock(\n",
              "            (conv1): Conv2d(192, 192, kernel_size=(3, 3), stride=(1, 1), padding=(1, 1))\n",
              "            (norm1): BatchNorm2d(192, eps=1e-05, momentum=0.1, affine=True, track_running_stats=True)\n",
              "            (act1): GELU(approximate='tanh')\n",
              "            (conv2): Conv2d(192, 192, kernel_size=(3, 3), stride=(1, 1), padding=(1, 1))\n",
              "            (norm2): BatchNorm2d(192, eps=1e-05, momentum=0.1, affine=True, track_running_stats=True)\n",
              "            (drop_path): DropPath(drop_prob=0.059)\n",
              "          )\n",
              "        )\n",
              "        (downsample): Downsample(\n",
              "          (reduction): Sequential(\n",
              "            (0): Conv2d(192, 384, kernel_size=(3, 3), stride=(2, 2), padding=(1, 1), bias=False)\n",
              "          )\n",
              "        )\n",
              "      )\n",
              "      (2): MambaVisionLayer(\n",
              "        (blocks): ModuleList(\n",
              "          (0): Block(\n",
              "            (norm1): LayerNorm((384,), eps=1e-05, elementwise_affine=True)\n",
              "            (mixer): MambaVisionMixer(\n",
              "              (in_proj): Linear(in_features=384, out_features=384, bias=False)\n",
              "              (x_proj): Linear(in_features=192, out_features=40, bias=False)\n",
              "              (dt_proj): Linear(in_features=24, out_features=192, bias=True)\n",
              "              (out_proj): Linear(in_features=384, out_features=384, bias=False)\n",
              "              (conv1d_x): Conv1d(192, 192, kernel_size=(3,), stride=(1,), groups=192, bias=False)\n",
              "              (conv1d_z): Conv1d(192, 192, kernel_size=(3,), stride=(1,), groups=192, bias=False)\n",
              "            )\n",
              "            (drop_path): DropPath(drop_prob=0.071)\n",
              "            (norm2): LayerNorm((384,), eps=1e-05, elementwise_affine=True)\n",
              "            (mlp): Mlp(\n",
              "              (fc1): Linear(in_features=384, out_features=1536, bias=True)\n",
              "              (act): GELU(approximate='none')\n",
              "              (drop1): Dropout(p=0.0, inplace=False)\n",
              "              (norm): Identity()\n",
              "              (fc2): Linear(in_features=1536, out_features=384, bias=True)\n",
              "              (drop2): Dropout(p=0.0, inplace=False)\n",
              "            )\n",
              "          )\n",
              "          (1): Block(\n",
              "            (norm1): LayerNorm((384,), eps=1e-05, elementwise_affine=True)\n",
              "            (mixer): MambaVisionMixer(\n",
              "              (in_proj): Linear(in_features=384, out_features=384, bias=False)\n",
              "              (x_proj): Linear(in_features=192, out_features=40, bias=False)\n",
              "              (dt_proj): Linear(in_features=24, out_features=192, bias=True)\n",
              "              (out_proj): Linear(in_features=384, out_features=384, bias=False)\n",
              "              (conv1d_x): Conv1d(192, 192, kernel_size=(3,), stride=(1,), groups=192, bias=False)\n",
              "              (conv1d_z): Conv1d(192, 192, kernel_size=(3,), stride=(1,), groups=192, bias=False)\n",
              "            )\n",
              "            (drop_path): DropPath(drop_prob=0.082)\n",
              "            (norm2): LayerNorm((384,), eps=1e-05, elementwise_affine=True)\n",
              "            (mlp): Mlp(\n",
              "              (fc1): Linear(in_features=384, out_features=1536, bias=True)\n",
              "              (act): GELU(approximate='none')\n",
              "              (drop1): Dropout(p=0.0, inplace=False)\n",
              "              (norm): Identity()\n",
              "              (fc2): Linear(in_features=1536, out_features=384, bias=True)\n",
              "              (drop2): Dropout(p=0.0, inplace=False)\n",
              "            )\n",
              "          )\n",
              "          (2): Block(\n",
              "            (norm1): LayerNorm((384,), eps=1e-05, elementwise_affine=True)\n",
              "            (mixer): MambaVisionMixer(\n",
              "              (in_proj): Linear(in_features=384, out_features=384, bias=False)\n",
              "              (x_proj): Linear(in_features=192, out_features=40, bias=False)\n",
              "              (dt_proj): Linear(in_features=24, out_features=192, bias=True)\n",
              "              (out_proj): Linear(in_features=384, out_features=384, bias=False)\n",
              "              (conv1d_x): Conv1d(192, 192, kernel_size=(3,), stride=(1,), groups=192, bias=False)\n",
              "              (conv1d_z): Conv1d(192, 192, kernel_size=(3,), stride=(1,), groups=192, bias=False)\n",
              "            )\n",
              "            (drop_path): DropPath(drop_prob=0.094)\n",
              "            (norm2): LayerNorm((384,), eps=1e-05, elementwise_affine=True)\n",
              "            (mlp): Mlp(\n",
              "              (fc1): Linear(in_features=384, out_features=1536, bias=True)\n",
              "              (act): GELU(approximate='none')\n",
              "              (drop1): Dropout(p=0.0, inplace=False)\n",
              "              (norm): Identity()\n",
              "              (fc2): Linear(in_features=1536, out_features=384, bias=True)\n",
              "              (drop2): Dropout(p=0.0, inplace=False)\n",
              "            )\n",
              "          )\n",
              "          (3): Block(\n",
              "            (norm1): LayerNorm((384,), eps=1e-05, elementwise_affine=True)\n",
              "            (mixer): MambaVisionMixer(\n",
              "              (in_proj): Linear(in_features=384, out_features=384, bias=False)\n",
              "              (x_proj): Linear(in_features=192, out_features=40, bias=False)\n",
              "              (dt_proj): Linear(in_features=24, out_features=192, bias=True)\n",
              "              (out_proj): Linear(in_features=384, out_features=384, bias=False)\n",
              "              (conv1d_x): Conv1d(192, 192, kernel_size=(3,), stride=(1,), groups=192, bias=False)\n",
              "              (conv1d_z): Conv1d(192, 192, kernel_size=(3,), stride=(1,), groups=192, bias=False)\n",
              "            )\n",
              "            (drop_path): DropPath(drop_prob=0.106)\n",
              "            (norm2): LayerNorm((384,), eps=1e-05, elementwise_affine=True)\n",
              "            (mlp): Mlp(\n",
              "              (fc1): Linear(in_features=384, out_features=1536, bias=True)\n",
              "              (act): GELU(approximate='none')\n",
              "              (drop1): Dropout(p=0.0, inplace=False)\n",
              "              (norm): Identity()\n",
              "              (fc2): Linear(in_features=1536, out_features=384, bias=True)\n",
              "              (drop2): Dropout(p=0.0, inplace=False)\n",
              "            )\n",
              "          )\n",
              "          (4): Block(\n",
              "            (norm1): LayerNorm((384,), eps=1e-05, elementwise_affine=True)\n",
              "            (mixer): Attention(\n",
              "              (qkv): Linear(in_features=384, out_features=1152, bias=True)\n",
              "              (q_norm): Identity()\n",
              "              (k_norm): Identity()\n",
              "              (attn_drop): Dropout(p=0.0, inplace=False)\n",
              "              (proj): Linear(in_features=384, out_features=384, bias=True)\n",
              "              (proj_drop): Dropout(p=0.0, inplace=False)\n",
              "            )\n",
              "            (drop_path): DropPath(drop_prob=0.118)\n",
              "            (norm2): LayerNorm((384,), eps=1e-05, elementwise_affine=True)\n",
              "            (mlp): Mlp(\n",
              "              (fc1): Linear(in_features=384, out_features=1536, bias=True)\n",
              "              (act): GELU(approximate='none')\n",
              "              (drop1): Dropout(p=0.0, inplace=False)\n",
              "              (norm): Identity()\n",
              "              (fc2): Linear(in_features=1536, out_features=384, bias=True)\n",
              "              (drop2): Dropout(p=0.0, inplace=False)\n",
              "            )\n",
              "          )\n",
              "          (5): Block(\n",
              "            (norm1): LayerNorm((384,), eps=1e-05, elementwise_affine=True)\n",
              "            (mixer): Attention(\n",
              "              (qkv): Linear(in_features=384, out_features=1152, bias=True)\n",
              "              (q_norm): Identity()\n",
              "              (k_norm): Identity()\n",
              "              (attn_drop): Dropout(p=0.0, inplace=False)\n",
              "              (proj): Linear(in_features=384, out_features=384, bias=True)\n",
              "              (proj_drop): Dropout(p=0.0, inplace=False)\n",
              "            )\n",
              "            (drop_path): DropPath(drop_prob=0.129)\n",
              "            (norm2): LayerNorm((384,), eps=1e-05, elementwise_affine=True)\n",
              "            (mlp): Mlp(\n",
              "              (fc1): Linear(in_features=384, out_features=1536, bias=True)\n",
              "              (act): GELU(approximate='none')\n",
              "              (drop1): Dropout(p=0.0, inplace=False)\n",
              "              (norm): Identity()\n",
              "              (fc2): Linear(in_features=1536, out_features=384, bias=True)\n",
              "              (drop2): Dropout(p=0.0, inplace=False)\n",
              "            )\n",
              "          )\n",
              "          (6): Block(\n",
              "            (norm1): LayerNorm((384,), eps=1e-05, elementwise_affine=True)\n",
              "            (mixer): Attention(\n",
              "              (qkv): Linear(in_features=384, out_features=1152, bias=True)\n",
              "              (q_norm): Identity()\n",
              "              (k_norm): Identity()\n",
              "              (attn_drop): Dropout(p=0.0, inplace=False)\n",
              "              (proj): Linear(in_features=384, out_features=384, bias=True)\n",
              "              (proj_drop): Dropout(p=0.0, inplace=False)\n",
              "            )\n",
              "            (drop_path): DropPath(drop_prob=0.141)\n",
              "            (norm2): LayerNorm((384,), eps=1e-05, elementwise_affine=True)\n",
              "            (mlp): Mlp(\n",
              "              (fc1): Linear(in_features=384, out_features=1536, bias=True)\n",
              "              (act): GELU(approximate='none')\n",
              "              (drop1): Dropout(p=0.0, inplace=False)\n",
              "              (norm): Identity()\n",
              "              (fc2): Linear(in_features=1536, out_features=384, bias=True)\n",
              "              (drop2): Dropout(p=0.0, inplace=False)\n",
              "            )\n",
              "          )\n",
              "        )\n",
              "        (downsample): Downsample(\n",
              "          (reduction): Sequential(\n",
              "            (0): Conv2d(384, 768, kernel_size=(3, 3), stride=(2, 2), padding=(1, 1), bias=False)\n",
              "          )\n",
              "        )\n",
              "      )\n",
              "      (3): MambaVisionLayer(\n",
              "        (blocks): ModuleList(\n",
              "          (0): Block(\n",
              "            (norm1): LayerNorm((768,), eps=1e-05, elementwise_affine=True)\n",
              "            (mixer): MambaVisionMixer(\n",
              "              (in_proj): Linear(in_features=768, out_features=768, bias=False)\n",
              "              (x_proj): Linear(in_features=384, out_features=64, bias=False)\n",
              "              (dt_proj): Linear(in_features=48, out_features=384, bias=True)\n",
              "              (out_proj): Linear(in_features=768, out_features=768, bias=False)\n",
              "              (conv1d_x): Conv1d(384, 384, kernel_size=(3,), stride=(1,), groups=384, bias=False)\n",
              "              (conv1d_z): Conv1d(384, 384, kernel_size=(3,), stride=(1,), groups=384, bias=False)\n",
              "            )\n",
              "            (drop_path): DropPath(drop_prob=0.153)\n",
              "            (norm2): LayerNorm((768,), eps=1e-05, elementwise_affine=True)\n",
              "            (mlp): Mlp(\n",
              "              (fc1): Linear(in_features=768, out_features=3072, bias=True)\n",
              "              (act): GELU(approximate='none')\n",
              "              (drop1): Dropout(p=0.0, inplace=False)\n",
              "              (norm): Identity()\n",
              "              (fc2): Linear(in_features=3072, out_features=768, bias=True)\n",
              "              (drop2): Dropout(p=0.0, inplace=False)\n",
              "            )\n",
              "          )\n",
              "          (1): Block(\n",
              "            (norm1): LayerNorm((768,), eps=1e-05, elementwise_affine=True)\n",
              "            (mixer): MambaVisionMixer(\n",
              "              (in_proj): Linear(in_features=768, out_features=768, bias=False)\n",
              "              (x_proj): Linear(in_features=384, out_features=64, bias=False)\n",
              "              (dt_proj): Linear(in_features=48, out_features=384, bias=True)\n",
              "              (out_proj): Linear(in_features=768, out_features=768, bias=False)\n",
              "              (conv1d_x): Conv1d(384, 384, kernel_size=(3,), stride=(1,), groups=384, bias=False)\n",
              "              (conv1d_z): Conv1d(384, 384, kernel_size=(3,), stride=(1,), groups=384, bias=False)\n",
              "            )\n",
              "            (drop_path): DropPath(drop_prob=0.165)\n",
              "            (norm2): LayerNorm((768,), eps=1e-05, elementwise_affine=True)\n",
              "            (mlp): Mlp(\n",
              "              (fc1): Linear(in_features=768, out_features=3072, bias=True)\n",
              "              (act): GELU(approximate='none')\n",
              "              (drop1): Dropout(p=0.0, inplace=False)\n",
              "              (norm): Identity()\n",
              "              (fc2): Linear(in_features=3072, out_features=768, bias=True)\n",
              "              (drop2): Dropout(p=0.0, inplace=False)\n",
              "            )\n",
              "          )\n",
              "          (2): Block(\n",
              "            (norm1): LayerNorm((768,), eps=1e-05, elementwise_affine=True)\n",
              "            (mixer): MambaVisionMixer(\n",
              "              (in_proj): Linear(in_features=768, out_features=768, bias=False)\n",
              "              (x_proj): Linear(in_features=384, out_features=64, bias=False)\n",
              "              (dt_proj): Linear(in_features=48, out_features=384, bias=True)\n",
              "              (out_proj): Linear(in_features=768, out_features=768, bias=False)\n",
              "              (conv1d_x): Conv1d(384, 384, kernel_size=(3,), stride=(1,), groups=384, bias=False)\n",
              "              (conv1d_z): Conv1d(384, 384, kernel_size=(3,), stride=(1,), groups=384, bias=False)\n",
              "            )\n",
              "            (drop_path): DropPath(drop_prob=0.176)\n",
              "            (norm2): LayerNorm((768,), eps=1e-05, elementwise_affine=True)\n",
              "            (mlp): Mlp(\n",
              "              (fc1): Linear(in_features=768, out_features=3072, bias=True)\n",
              "              (act): GELU(approximate='none')\n",
              "              (drop1): Dropout(p=0.0, inplace=False)\n",
              "              (norm): Identity()\n",
              "              (fc2): Linear(in_features=3072, out_features=768, bias=True)\n",
              "              (drop2): Dropout(p=0.0, inplace=False)\n",
              "            )\n",
              "          )\n",
              "          (3): Block(\n",
              "            (norm1): LayerNorm((768,), eps=1e-05, elementwise_affine=True)\n",
              "            (mixer): Attention(\n",
              "              (qkv): Linear(in_features=768, out_features=2304, bias=True)\n",
              "              (q_norm): Identity()\n",
              "              (k_norm): Identity()\n",
              "              (attn_drop): Dropout(p=0.0, inplace=False)\n",
              "              (proj): Linear(in_features=768, out_features=768, bias=True)\n",
              "              (proj_drop): Dropout(p=0.0, inplace=False)\n",
              "            )\n",
              "            (drop_path): DropPath(drop_prob=0.188)\n",
              "            (norm2): LayerNorm((768,), eps=1e-05, elementwise_affine=True)\n",
              "            (mlp): Mlp(\n",
              "              (fc1): Linear(in_features=768, out_features=3072, bias=True)\n",
              "              (act): GELU(approximate='none')\n",
              "              (drop1): Dropout(p=0.0, inplace=False)\n",
              "              (norm): Identity()\n",
              "              (fc2): Linear(in_features=3072, out_features=768, bias=True)\n",
              "              (drop2): Dropout(p=0.0, inplace=False)\n",
              "            )\n",
              "          )\n",
              "          (4): Block(\n",
              "            (norm1): LayerNorm((768,), eps=1e-05, elementwise_affine=True)\n",
              "            (mixer): Attention(\n",
              "              (qkv): Linear(in_features=768, out_features=2304, bias=True)\n",
              "              (q_norm): Identity()\n",
              "              (k_norm): Identity()\n",
              "              (attn_drop): Dropout(p=0.0, inplace=False)\n",
              "              (proj): Linear(in_features=768, out_features=768, bias=True)\n",
              "              (proj_drop): Dropout(p=0.0, inplace=False)\n",
              "            )\n",
              "            (drop_path): DropPath(drop_prob=0.200)\n",
              "            (norm2): LayerNorm((768,), eps=1e-05, elementwise_affine=True)\n",
              "            (mlp): Mlp(\n",
              "              (fc1): Linear(in_features=768, out_features=3072, bias=True)\n",
              "              (act): GELU(approximate='none')\n",
              "              (drop1): Dropout(p=0.0, inplace=False)\n",
              "              (norm): Identity()\n",
              "              (fc2): Linear(in_features=3072, out_features=768, bias=True)\n",
              "              (drop2): Dropout(p=0.0, inplace=False)\n",
              "            )\n",
              "          )\n",
              "        )\n",
              "      )\n",
              "    )\n",
              "    (norm): BatchNorm2d(768, eps=1e-05, momentum=0.1, affine=True, track_running_stats=True)\n",
              "    (avgpool): AdaptiveAvgPool2d(output_size=1)\n",
              "    (head): Linear(in_features=768, out_features=1000, bias=True)\n",
              "  )\n",
              "  (valence_head): Sequential(\n",
              "    (0): Linear(in_features=768, out_features=512, bias=True)\n",
              "    (1): LeakyReLU(negative_slope=0.01)\n",
              "    (2): Dropout(p=0.2, inplace=False)\n",
              "    (3): Linear(in_features=512, out_features=128, bias=True)\n",
              "    (4): LeakyReLU(negative_slope=0.01)\n",
              "    (5): Dropout(p=0.1, inplace=False)\n",
              "    (6): Linear(in_features=128, out_features=1, bias=True)\n",
              "  )\n",
              "  (arousal_head): Sequential(\n",
              "    (0): Linear(in_features=768, out_features=512, bias=True)\n",
              "    (1): LeakyReLU(negative_slope=0.01)\n",
              "    (2): Dropout(p=0.2, inplace=False)\n",
              "    (3): Linear(in_features=512, out_features=128, bias=True)\n",
              "    (4): LeakyReLU(negative_slope=0.01)\n",
              "    (5): Dropout(p=0.1, inplace=False)\n",
              "    (6): Linear(in_features=128, out_features=1, bias=True)\n",
              "  )\n",
              ")"
            ]
          },
          "metadata": {},
          "execution_count": 28
        }
      ]
    },
    {
      "cell_type": "code",
      "execution_count": 29,
      "metadata": {
        "colab": {
          "base_uri": "https://localhost:8080/",
          "height": 576
        },
        "id": "fPPYrK9mJv5x",
        "outputId": "5fc0c4c1-1e1d-46ac-e405-b4fba3031464"
      },
      "outputs": [
        {
          "output_type": "stream",
          "name": "stdout",
          "text": [
            "\n",
            " Final Test Loss (MSE): 0.4196\n",
            "Valence MSE (unnormlized): 0.6211\n",
            "Arousal MSE (unnormlized): 0.6523\n"
          ]
        },
        {
          "output_type": "display_data",
          "data": {
            "text/plain": [
              "<Figure size 1200x500 with 2 Axes>"
            ],
            "image/png": "[encoded data removed]"
          },
          "metadata": {}
        }
      ],
      "source": [
        "#  Test & Analysis\n",
        "test_loss, preds, targets = evaluate(model, test_loader, device)\n",
        "print(f\"\\n Final Test Loss (MSE): {test_loss:.4f}\")\n",
        "\n",
        "# Plot prediction vs. true for valence and arousal\n",
        "valence_pred = (preds[:, 0].numpy())*valence_std + valence_mean\n",
        "valence_true = (targets[:, 0].numpy())*valence_std + valence_mean\n",
        "arousal_pred = (preds[:, 1].numpy())*arousal_std + arousal_mean\n",
        "arousal_true = (targets[:, 1].numpy())*arousal_std + arousal_mean\n",
        "\n",
        "valence_mse = mean_squared_error(valence_true, valence_pred)\n",
        "arousal_mse = mean_squared_error(arousal_true, arousal_pred)\n",
        "\n",
        "print(f\"Valence MSE (unnormlized): {valence_mse:.4f}\")\n",
        "print(f\"Arousal MSE (unnormlized): {arousal_mse:.4f}\")\n",
        "\n",
        "plt.figure(figsize=(12, 5))\n",
        "plt.subplot(1, 2, 1)\n",
        "plt.scatter(valence_true, valence_pred, alpha=0.6)\n",
        "plt.plot([1, 8], [1, 8], 'r--', label='y = x')\n",
        "\n",
        "plt.xlabel(\"True Valence\"); plt.ylabel(\"Predicted Valence\")\n",
        "plt.title(\"Valence Prediction\")\n",
        "\n",
        "plt.subplot(1, 2, 2)\n",
        "plt.scatter(arousal_true, arousal_pred, alpha=0.6, color='orange')\n",
        "plt.plot([1, 8], [1, 8], 'r--', label='y = x')\n",
        "\n",
        "\n",
        "plt.xlabel(\"True Arousal\"); plt.ylabel(\"Predicted Arousal\")\n",
        "plt.title(\"Arousal Prediction\")\n",
        "\n",
        "\n",
        "plt.tight_layout()\n",
        "plt.show()"
      ]
    },
    {
      "cell_type": "code",
      "execution_count": 30,
      "metadata": {
        "colab": {
          "base_uri": "https://localhost:8080/",
          "height": 507
        },
        "id": "CeQQzpFISdab",
        "outputId": "773a229f-c020-4037-cbc6-78c157472628"
      },
      "outputs": [
        {
          "output_type": "display_data",
          "data": {
            "text/plain": [
              "<Figure size 800x500 with 1 Axes>"
            ],
            "image/png": "[encoded data removed]"
          },
          "metadata": {}
        }
      ],
      "source": [
        "epochs = list(range(1, len(train_losses) + 1))\n",
        "train_losses_normalized = [x for x in train_losses]\n",
        "plt.figure(figsize=(8, 5))\n",
        "plt.plot(epochs, train_losses_normalized, label='Train Loss', marker='o')\n",
        "plt.plot(epochs, val_losses, label='Validation Loss', marker='s')\n",
        "plt.xlabel('Epoch')\n",
        "plt.ylabel('Loss')\n",
        "plt.title('Loss over Epochs')\n",
        "plt.legend()\n",
        "plt.grid(True)\n",
        "plt.tight_layout()\n",
        "plt.show()"
      ]
    },
    {
      "cell_type": "code",
      "execution_count": 31,
      "metadata": {
        "colab": {
          "base_uri": "https://localhost:8080/",
          "height": 507
        },
        "id": "ZXsPgqnbLpWu",
        "outputId": "c235a225-7af7-4701-e1f0-6851dd11360a"
      },
      "outputs": [
        {
          "output_type": "display_data",
          "data": {
            "text/plain": [
              "<Figure size 600x500 with 2 Axes>"
            ],
            "image/png": "[encoded data removed]"
          },
          "metadata": {}
        }
      ],
      "source": [
        "#Confusion matrix\n",
        "# Denormalized valence/arousal arrays\n",
        "valence_pred = preds[:, 0].numpy() * valence_std + valence_mean\n",
        "valence_true = targets[:, 0].numpy() * valence_std + valence_mean\n",
        "arousal_pred = preds[:, 1].numpy() * arousal_std + arousal_mean\n",
        "arousal_true = targets[:, 1].numpy() * arousal_std + arousal_mean\n",
        "\n",
        "# quadrant assignment function\n",
        "def get_quadrant(v, a, threshold=4.9):\n",
        "    if v >= threshold and a >= threshold:\n",
        "        return 0  # Q1: High Valence, High Arousal (HAVH)\n",
        "    elif v < threshold and a >= threshold:\n",
        "        return 1  # Q2: Low Valence, High Arousal (LAVH)\n",
        "    elif v < threshold and a < threshold:\n",
        "        return 2  # Q3: Low Valence, Low Arousal (LALV)\n",
        "    else:\n",
        "        return 3  # Q4: High Valence, Low Arousal (HALV)\n",
        "true_quads = [get_quadrant(v, a) for v, a in zip(valence_true, arousal_true)]\n",
        "pred_quads = [get_quadrant(v, a) for v, a in zip(valence_pred, arousal_pred)]\n",
        "\n",
        "# Compute confusion matrix\n",
        "cm = confusion_matrix(true_quads, pred_quads)\n",
        "\n",
        "# Plot\n",
        "labels = ['Q1 (HAHV)', 'Q2 (LAHV)', 'Q3 (LALV)', 'Q4 (HALV)']\n",
        "plt.figure(figsize=(6, 5))\n",
        "sns.heatmap(cm, annot=True, fmt='d', cmap='Blues',\n",
        "            xticklabels=labels, yticklabels=labels)\n",
        "plt.xlabel(\"Predicted\")\n",
        "plt.ylabel(\"Actual\")\n",
        "plt.title(\"Confusion Matrix: Emotion Quadrant Classification\")\n",
        "plt.tight_layout()\n",
        "plt.show()\n"
      ]
    },
    {
      "cell_type": "code",
      "execution_count": 32,
      "metadata": {
        "colab": {
          "base_uri": "https://localhost:8080/",
          "height": 472
        },
        "id": "jLNMHp6OdPLZ",
        "outputId": "3e979631-4255-4361-9544-002b53679ab2"
      },
      "outputs": [
        {
          "output_type": "display_data",
          "data": {
            "text/plain": [
              "<Figure size 640x480 with 1 Axes>"
            ],
            "image/png": "[encoded data removed]"
          },
          "metadata": {}
        }
      ],
      "source": [
        "#scatterplot of predicted and true V/A values\n",
        "plt.scatter(valence_true, arousal_true, alpha=0.4, label='True')\n",
        "plt.scatter(valence_pred, arousal_pred, alpha=0.4, label='Predicted')\n",
        "plt.axhline(5.0, color='gray', linestyle='--')\n",
        "plt.axvline(5.0, color='gray', linestyle='--')\n",
        "plt.legend()\n",
        "plt.title(\"Valence–Arousal Scatter\")\n",
        "plt.xlabel(\"Valence\")\n",
        "plt.ylabel(\"Arousal\")\n",
        "plt.show()"
      ]
    },
    {
      "cell_type": "code",
      "execution_count": 44,
      "metadata": {
        "colab": {
          "base_uri": "https://localhost:8080/"
        },
        "id": "aIlMD6KIQ4Xi",
        "outputId": "39f805d8-cab6-4b44-9486-e761066d989b"
      },
      "outputs": [
        {
          "output_type": "stream",
          "name": "stdout",
          "text": [
            "--- Song 10 ---\n",
            "Predicted Valence: 4.5751 | Target: 4.5000\n",
            "Predicted Arousal: 4.5761 | Target: 5.0000\n"
          ]
        }
      ],
      "source": [
        "# particular song result example:\n",
        "\n",
        "song_index = 10\n",
        "# Denormalize predictions and targets\n",
        "valence_pred = preds[:, 0].numpy() * valence_std + valence_mean\n",
        "valence_true = targets[:, 0].numpy() * valence_std + valence_mean\n",
        "arousal_pred = preds[:, 1].numpy() * arousal_std + arousal_mean\n",
        "arousal_true = targets[:, 1].numpy() * arousal_std + arousal_mean\n",
        "\n",
        "# Print the specific song's result\n",
        "print(f\"--- Song {song_index} ---\")\n",
        "print(f\"Predicted Valence: {valence_pred[song_index]:.4f} | Target: {valence_true[song_index]:.4f}\")\n",
        "print(f\"Predicted Arousal: {arousal_pred[song_index]:.4f} | Target: {arousal_true[song_index]:.4f}\")\n"
      ]
    },
    {
      "cell_type": "code",
      "execution_count": 45,
      "metadata": {
        "colab": {
          "base_uri": "https://localhost:8080/"
        },
        "id": "GTA1gP6FFxuS",
        "outputId": "ada52254-a749-47a4-d961-70217c9532fe"
      },
      "outputs": [
        {
          "output_type": "stream",
          "name": "stdout",
          "text": [
            "True correlation:     0.5453\n",
            "Predicted correlation: 0.7805\n",
            "Difference:            0.2352\n"
          ]
        }
      ],
      "source": [
        "#correlation comparison\n",
        "# Ground truth correlation\n",
        "true_corr = np.corrcoef(valence_true, arousal_true)[0, 1]\n",
        "\n",
        "# Predicted correlation\n",
        "pred_corr = np.corrcoef(valence_pred, arousal_pred)[0, 1]\n",
        "\n",
        "# Difference in correlation\n",
        "corr_diff = abs(true_corr - pred_corr)\n",
        "\n",
        "print(f\"True correlation:     {true_corr:.4f}\")\n",
        "print(f\"Predicted correlation: {pred_corr:.4f}\")\n",
        "print(f\"Difference:            {corr_diff:.4f}\")"
      ]
    },
    {
      "cell_type": "code",
      "execution_count": 35,
      "metadata": {
        "colab": {
          "base_uri": "https://localhost:8080/",
          "height": 1000
        },
        "id": "W4wgnCsUPc64",
        "outputId": "691a3827-e675-4db4-cddb-38dfa9148df0"
      },
      "outputs": [
        {
          "output_type": "display_data",
          "data": {
            "text/plain": [
              "<Figure size 640x480 with 1 Axes>"
            ],
            "image/png": "[encoded data removed]"
          },
          "metadata": {}
        },
        {
          "output_type": "display_data",
          "data": {
            "text/plain": [
              "<Figure size 640x480 with 1 Axes>"
            ],
            "image/png": "[encoded data removed]"
          },
          "metadata": {}
        },
        {
          "output_type": "display_data",
          "data": {
            "text/plain": [
              "<Figure size 640x480 with 1 Axes>"
            ],
            "image/png": "[encoded data removed]"
          },
          "metadata": {}
        }
      ],
      "source": [
        "#valence and arousal histograms analysis\n",
        "plt.hist(valence_pred, bins=30, alpha=0.6, label=\"Pred Valence\")\n",
        "plt.hist(valence_true, bins=30, alpha=0.6, label=\"True Valence\")\n",
        "plt.legend(); plt.title(\"Valence Distribution\"); plt.show()\n",
        "\n",
        "plt.hist(arousal_pred, bins=30, alpha=0.6, label=\"Pred Arousal\")\n",
        "plt.hist(arousal_true, bins=30, alpha=0.6, label=\"True Arousal\")\n",
        "plt.legend(); plt.title(\"Arousal Distribution\"); plt.show()\n",
        "\n",
        "vals = handler.static_annotations[[\"valence_mean\", \"arousal_mean\"]].values\n",
        "plt.hist(vals[:, 0], bins=30, alpha=0.6, label='Valence')\n",
        "plt.hist(vals[:, 1], bins=30, alpha=0.6, label='Arousal')\n",
        "plt.title(\"Histogram of valence_mean and arousal_mean\")\n",
        "plt.legend()\n",
        "plt.show()\n"
      ]
    },
    {
      "cell_type": "code",
      "execution_count": null,
      "metadata": {
        "colab": {
          "base_uri": "https://localhost:8080/"
        },
        "id": "1cbdkOnom7_F",
        "outputId": "15226c3f-be16-488b-baa8-e138440e8629"
      },
      "outputs": [
        {
          "name": "stdout",
          "output_type": "stream",
          "text": [
            "mv: cannot stat 'mel_cache/*.pt': No such file or directory\n"
          ]
        }
      ],
      "source": [
        "# #mel saving\n",
        "# !mkdir -p /content/drive/MyDrive/mel_cache\n",
        "# !mv mel_cache/*.pt /content/drive/MyDrive/mel_cache/"
      ]
    },
    {
      "cell_type": "code",
      "source": [
        "# Check trainable parameters\n",
        "print(\"Trainable parameters:\")\n",
        "for name, param in model.named_parameters():\n",
        "    if param.requires_grad:\n",
        "        print(name)\n",
        "num_trainable = sum(p.numel() for p in model.parameters() if p.requires_grad)\n",
        "print(f\"Trainable params: {num_trainable:,}\")"
      ],
      "metadata": {
        "id": "DJo0zwCZD0Yj"
      },
      "execution_count": null,
      "outputs": []
    }
  ],
  "metadata": {
    "accelerator": "GPU",
    "colab": {
      "gpuType": "T4",
      "provenance": [],
      "toc_visible": true
    },
    "kernelspec": {
      "display_name": "Python 3",
      "name": "python3"
    },
    "language_info": {
      "name": "python"
    }
  },
  "nbformat": 4,
  "nbformat_minor": 0
}